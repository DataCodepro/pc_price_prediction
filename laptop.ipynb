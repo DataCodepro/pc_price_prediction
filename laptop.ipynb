{
 "cells": [
  {
   "cell_type": "code",
   "execution_count": 2,
   "metadata": {},
   "outputs": [
    {
     "data": {
      "text/html": [
       "<div>\n",
       "<style scoped>\n",
       "    .dataframe tbody tr th:only-of-type {\n",
       "        vertical-align: middle;\n",
       "    }\n",
       "\n",
       "    .dataframe tbody tr th {\n",
       "        vertical-align: top;\n",
       "    }\n",
       "\n",
       "    .dataframe thead th {\n",
       "        text-align: right;\n",
       "    }\n",
       "</style>\n",
       "<table border=\"1\" class=\"dataframe\">\n",
       "  <thead>\n",
       "    <tr style=\"text-align: right;\">\n",
       "      <th></th>\n",
       "      <th>model</th>\n",
       "      <th>model.1</th>\n",
       "      <th>drive_size</th>\n",
       "      <th>ram</th>\n",
       "      <th>processor</th>\n",
       "      <th>gen</th>\n",
       "      <th>processor_speed</th>\n",
       "      <th>screen_size</th>\n",
       "      <th>screen_r_width</th>\n",
       "      <th>screen_r_height</th>\n",
       "      <th>touch_screen</th>\n",
       "      <th>keyboard_light</th>\n",
       "      <th>hdmi</th>\n",
       "      <th>price</th>\n",
       "    </tr>\n",
       "  </thead>\n",
       "  <tbody>\n",
       "    <tr>\n",
       "      <th>0</th>\n",
       "      <td>EliteBook 2560p</td>\n",
       "      <td>hdd</td>\n",
       "      <td>320</td>\n",
       "      <td>4</td>\n",
       "      <td>i7</td>\n",
       "      <td>2.0</td>\n",
       "      <td>2.7</td>\n",
       "      <td>12.5</td>\n",
       "      <td>1366</td>\n",
       "      <td>768</td>\n",
       "      <td>0.0</td>\n",
       "      <td>0.0</td>\n",
       "      <td>0.0</td>\n",
       "      <td>100000</td>\n",
       "    </tr>\n",
       "    <tr>\n",
       "      <th>1</th>\n",
       "      <td>Razer Blade 15</td>\n",
       "      <td>ssd</td>\n",
       "      <td>NaN</td>\n",
       "      <td>16</td>\n",
       "      <td>i7</td>\n",
       "      <td>8.0</td>\n",
       "      <td>NaN</td>\n",
       "      <td>15.6</td>\n",
       "      <td>1920</td>\n",
       "      <td>1080</td>\n",
       "      <td>0.0</td>\n",
       "      <td>1.0</td>\n",
       "      <td>1.0</td>\n",
       "      <td>678000</td>\n",
       "    </tr>\n",
       "    <tr>\n",
       "      <th>2</th>\n",
       "      <td>Acer Nitro AN515-55</td>\n",
       "      <td>ssd</td>\n",
       "      <td>256</td>\n",
       "      <td>8</td>\n",
       "      <td>i5</td>\n",
       "      <td>10.0</td>\n",
       "      <td>2.5</td>\n",
       "      <td>15.0</td>\n",
       "      <td>1920</td>\n",
       "      <td>1080</td>\n",
       "      <td>0.0</td>\n",
       "      <td>1.0</td>\n",
       "      <td>1.0</td>\n",
       "      <td>485000</td>\n",
       "    </tr>\n",
       "    <tr>\n",
       "      <th>3</th>\n",
       "      <td>HP Folio 9480m</td>\n",
       "      <td>hdd</td>\n",
       "      <td>500</td>\n",
       "      <td>8</td>\n",
       "      <td>i5</td>\n",
       "      <td>4.0</td>\n",
       "      <td>2.6</td>\n",
       "      <td>14.0</td>\n",
       "      <td>1600</td>\n",
       "      <td>900</td>\n",
       "      <td>0.0</td>\n",
       "      <td>1.0</td>\n",
       "      <td>0.0</td>\n",
       "      <td>155000</td>\n",
       "    </tr>\n",
       "    <tr>\n",
       "      <th>4</th>\n",
       "      <td>HP EliteBook 8440p</td>\n",
       "      <td>hdd</td>\n",
       "      <td>320</td>\n",
       "      <td>4</td>\n",
       "      <td>i5</td>\n",
       "      <td>1.0</td>\n",
       "      <td>2.6</td>\n",
       "      <td>14.0</td>\n",
       "      <td>1366</td>\n",
       "      <td>768</td>\n",
       "      <td>0.0</td>\n",
       "      <td>0.0</td>\n",
       "      <td>0.0</td>\n",
       "      <td>85000</td>\n",
       "    </tr>\n",
       "  </tbody>\n",
       "</table>\n",
       "</div>"
      ],
      "text/plain": [
       "                 model model.1 drive_size  ram processor   gen  \\\n",
       "0      EliteBook 2560p     hdd        320    4        i7   2.0   \n",
       "1       Razer Blade 15     ssd        NaN   16        i7   8.0   \n",
       "2  Acer Nitro AN515-55     ssd        256    8        i5  10.0   \n",
       "3       HP Folio 9480m     hdd        500    8        i5   4.0   \n",
       "4   HP EliteBook 8440p     hdd        320    4        i5   1.0   \n",
       "\n",
       "  processor_speed  screen_size screen_r_width screen_r_height  touch_screen  \\\n",
       "0             2.7         12.5           1366             768           0.0   \n",
       "1             NaN         15.6           1920            1080           0.0   \n",
       "2             2.5         15.0           1920            1080           0.0   \n",
       "3             2.6         14.0           1600             900           0.0   \n",
       "4             2.6         14.0           1366             768           0.0   \n",
       "\n",
       "   keyboard_light  hdmi   price  \n",
       "0             0.0   0.0  100000  \n",
       "1             1.0   1.0  678000  \n",
       "2             1.0   1.0  485000  \n",
       "3             1.0   0.0  155000  \n",
       "4             0.0   0.0   85000  "
      ]
     },
     "execution_count": 2,
     "metadata": {},
     "output_type": "execute_result"
    }
   ],
   "source": [
    "import pandas as pd\n",
    "import matplotlib.pyplot as plt\n",
    "df = pd.read_csv('pc_dataset.csv')\n",
    "df.head()"
   ]
  },
  {
   "cell_type": "code",
   "execution_count": 59,
   "metadata": {},
   "outputs": [
    {
     "data": {
      "text/plain": [
       "model               1\n",
       "model.1             0\n",
       "drive_size          1\n",
       "ram                 0\n",
       "processor           0\n",
       "gen                27\n",
       "processor_speed    30\n",
       "screen_size         6\n",
       "screen_r_width     39\n",
       "screen_r_height    39\n",
       "touch_screen        7\n",
       "keyboard_light      6\n",
       "hdmi                5\n",
       "price               0\n",
       "dtype: int64"
      ]
     },
     "execution_count": 59,
     "metadata": {},
     "output_type": "execute_result"
    }
   ],
   "source": [
    "df.isnull().sum()"
   ]
  },
  {
   "cell_type": "code",
   "execution_count": 60,
   "metadata": {},
   "outputs": [
    {
     "data": {
      "text/plain": [
       "(202, 14)"
      ]
     },
     "execution_count": 60,
     "metadata": {},
     "output_type": "execute_result"
    }
   ],
   "source": [
    "df.shape"
   ]
  },
  {
   "cell_type": "code",
   "execution_count": 61,
   "metadata": {},
   "outputs": [],
   "source": [
    "df['model'].fillna('not specified',inplace=True)"
   ]
  },
  {
   "cell_type": "code",
   "execution_count": 62,
   "metadata": {},
   "outputs": [
    {
     "data": {
      "text/plain": [
       "model               0\n",
       "model.1             0\n",
       "drive_size          1\n",
       "ram                 0\n",
       "processor           0\n",
       "gen                27\n",
       "processor_speed    30\n",
       "screen_size         6\n",
       "screen_r_width     39\n",
       "screen_r_height    39\n",
       "touch_screen        7\n",
       "keyboard_light      6\n",
       "hdmi                5\n",
       "price               0\n",
       "dtype: int64"
      ]
     },
     "execution_count": 62,
     "metadata": {},
     "output_type": "execute_result"
    }
   ],
   "source": [
    "df.isnull().sum()"
   ]
  },
  {
   "cell_type": "code",
   "execution_count": 4,
   "metadata": {},
   "outputs": [],
   "source": [
    "df.fillna(0,inplace=True)"
   ]
  },
  {
   "cell_type": "code",
   "execution_count": 64,
   "metadata": {},
   "outputs": [
    {
     "data": {
      "text/plain": [
       "model              0\n",
       "model.1            0\n",
       "drive_size         0\n",
       "ram                0\n",
       "processor          0\n",
       "gen                0\n",
       "processor_speed    0\n",
       "screen_size        0\n",
       "screen_r_width     0\n",
       "screen_r_height    0\n",
       "touch_screen       0\n",
       "keyboard_light     0\n",
       "hdmi               0\n",
       "price              0\n",
       "dtype: int64"
      ]
     },
     "execution_count": 64,
     "metadata": {},
     "output_type": "execute_result"
    }
   ],
   "source": [
    "df.isnull().sum()"
   ]
  },
  {
   "cell_type": "code",
   "execution_count": 65,
   "metadata": {},
   "outputs": [],
   "source": [
    "#df['screen_r_height'].unique()\n",
    "df.replace({'screen_r_height':0,'screen_r_width':0},inplace=True)"
   ]
  },
  {
   "cell_type": "code",
   "execution_count": 66,
   "metadata": {},
   "outputs": [
    {
     "name": "stdout",
     "output_type": "stream",
     "text": [
      "<class 'pandas.core.frame.DataFrame'>\n",
      "RangeIndex: 202 entries, 0 to 201\n",
      "Data columns (total 14 columns):\n",
      " #   Column           Non-Null Count  Dtype  \n",
      "---  ------           --------------  -----  \n",
      " 0   model            202 non-null    object \n",
      " 1   model.1          202 non-null    object \n",
      " 2   drive_size       202 non-null    object \n",
      " 3   ram              202 non-null    int64  \n",
      " 4   processor        202 non-null    object \n",
      " 5   gen              202 non-null    float64\n",
      " 6   processor_speed  202 non-null    object \n",
      " 7   screen_size      202 non-null    float64\n",
      " 8   screen_r_width   202 non-null    object \n",
      " 9   screen_r_height  202 non-null    object \n",
      " 10  touch_screen     202 non-null    float64\n",
      " 11  keyboard_light   202 non-null    float64\n",
      " 12  hdmi             202 non-null    float64\n",
      " 13  price            202 non-null    int64  \n",
      "dtypes: float64(5), int64(2), object(7)\n",
      "memory usage: 22.2+ KB\n"
     ]
    }
   ],
   "source": [
    "df.info()"
   ]
  },
  {
   "cell_type": "code",
   "execution_count": 76,
   "metadata": {},
   "outputs": [],
   "source": [
    "df['screen_size'].replace({0:'0'},inplace=True)"
   ]
  },
  {
   "cell_type": "code",
   "execution_count": 5,
   "metadata": {},
   "outputs": [
    {
     "name": "stdout",
     "output_type": "stream",
     "text": [
      "[ 2.  8. 10.  4.  1. 11.  9.  6.  7.  5.  3.  0.]\n"
     ]
    }
   ],
   "source": [
    "print(df['gen'].unique())"
   ]
  },
  {
   "cell_type": "code",
   "execution_count": 68,
   "metadata": {},
   "outputs": [
    {
     "name": "stdout",
     "output_type": "stream",
     "text": [
      "['hdd' 'ssd' 'sdd' 'SSD' 'hhd']\n",
      "['320' 0 '256' '500' '512' '1000' '1TB' '128' '64' '32' '180' '51GB' '250'\n",
      " '120']\n",
      "['i7' 'i5' 'AMD' 'i3' 'Xeon' 'atom' 'A6' 'celeron' '2 duo' 'pentium' 'E1']\n",
      "['2.7' 0 '2.5' '2.6' '3.8' '2.4' '1.99' '2.8' '1.6' '2' '2.9' '1.5' '1.8'\n",
      " '2.2' '3.1' '2.1' '1.44' '2..6' '1.3' '1.9' '2.13' '2.3' '4.7' '1.61'\n",
      " '1.33' '3.3' '1' '4.2' '2.67' '4' '1.35' '1.7' '3.6' '3.2' '2.53' '3'\n",
      " '4.9' '4.3' '4.1' '1.2']\n",
      "['1366' '1920' '1600' '3200' '3840' '2736' '1280' '2560' 0 '3480']\n",
      "['768' '1080' '900' '1800' '2160' '1280' '1824' '800' '1600' '0']\n"
     ]
    }
   ],
   "source": [
    "print(df['model.1'].unique())\n",
    "print(df['drive_size'].unique())\n",
    "print(df['processor'].unique())\n",
    "print(df['processor_speed'].unique())\n",
    "print(df['screen_r_width'].unique())\n",
    "print(df['screen_r_height'].unique())"
   ]
  },
  {
   "cell_type": "code",
   "execution_count": 69,
   "metadata": {},
   "outputs": [
    {
     "name": "stdout",
     "output_type": "stream",
     "text": [
      "['EliteBook 2560p' 'Razer Blade 15' 'Acer Nitro AN515-55' 'HP Folio 9480m'\n",
      " 'HP EliteBook 8440p' 'ASUS ZenBook(UX325EA)' 'HP Pavilion ' 'HP Zbook G3'\n",
      " 'Hp Zbook 15u G6' 'HP 840 G3' 'DELL XPS 15 9560'\n",
      " 'Acer Predator helios 300' 'HP EliteBook X360 1030 G2' 'Lenovo Region 5'\n",
      " 'SAMSUNG 730QCJ' 'DELL XPS 13(9360)' 'HP Probook 445 G6'\n",
      " 'HP Pro X2 612 G1' 'ASUS G551 JM' 'LENOVO YOGA' 'LENOVO THINKPAD T490'\n",
      " 'DELL Precision 7530' 'Hp Laptop 15' 'LENOVO Thinkpad E15'\n",
      " 'Dell Latitude E3380' 'HP Elite 1012' 'Dell Inspiron 7415' 'ACER NITRO 5'\n",
      " 'DELL PRECISION 7530' 'LENOVO THINKPAD P73' 'DELL ALIENWARE M15 R2'\n",
      " 'HP ELITE BOOK X360 1012 G1' 'HP ELITE BOOK 1012 G2' 'HP PRO BOOK 450 G3'\n",
      " 'HP Envy x360' 'Dell Inspiron 5593' 'Hp Elitebook 850 G6'\n",
      " 'SONT PCG VPCC W21FX' 'HP ELITEBOOK 650 G5' 'Dell Latitude 5400'\n",
      " 'Lenovo Thinkpad T420i' 'HP Omen 16' 'LENOVE G470'\n",
      " 'Hp Zbook Firefly 15 G7 ' 'SONY PGV VPCEB29FJ' 'TRANSFORMATION BOOK '\n",
      " 'MACBOOK PRO' 'MSi Katana Gf66' 'HP PROBOOK 645' 'Dell G15 5510' 'HP 215'\n",
      " 'ULTRA SLIM HP 14' 'DELL INSPIRON 15 ' 'LENOVO X1' 'PAVILION g7-1150us'\n",
      " 'DELL STUDIO 1555' 'Lenovo Thinkbood 15 G2' 'LENOVO THINKPAD T440P'\n",
      " 'Microsoft Surface Pro 6' 'DELL LATTITUDE E6410' 'LENOVO IDEAPAD 151WL'\n",
      " 'HP laptop 14' 'Dell latitude 3500' 'Dell Latitude 7480' 'HP Pavilion 15'\n",
      " 'HP Elitebook 830 G6' 'HP Elitebook 745 G5' 'Dell G15 5511'\n",
      " 'Lenovo Thinkpad T14s' 'MACBOOK PRO 2017' 'HP Elitebook 1030 G2'\n",
      " 'HP probook 11 G2' 'LENOVO YOGA 710' 'HP Notebook 15'\n",
      " 'HP Elitebook 450 G5' 'Dell Inspiron 5567' 'Lenovo Ideapad 5'\n",
      " 'Dell Inspiron 5579' 'SAMSUNG A5A5' 'MSi Pulse GL66 11UCK'\n",
      " 'Lenovo Ideapad S340' 'Dell Inspiron 7391`' 'Dell Latitude 7400'\n",
      " 'ASUS GL502VMK' 'MSI Creator 15 A10SET' 'Asus Vivo book17'\n",
      " 'Dell Vostro 5490' 'Asus Notebook' 'Lenovo Thinkpad P52s'\n",
      " 'Lenovo Thinkpad T580' 'Dell XPS 15-7590' 'Acer Aspire A515-54'\n",
      " 'Lenovo Ideapad Flex 4' 'Apple MacBook Pro' 'Dell G5' 'Acer Nitro 5'\n",
      " 'MacBook Air' 'HP Elitebook 840 G3' 'HP Probook 640 G2' 'HP Spectre'\n",
      " 'ASUS ROG ZEPHYRUS G14 GA401' 'HP ENVY 13' 'Asus ZENbook Duo'\n",
      " 'Lenovo Yoga C930 131KB' 'Lenovo Flex5-141TL05' 'DynaBook T451134EBS'\n",
      " 'Lenovo Ideapad Flex 5' 'Envy x360' 'Thinkpad P1 Gen2'\n",
      " 'Lenovo Thinkpad P1 Gen3' 'HP Probook 640 GB'\n",
      " 'Dell Latitude 7390 Ultrabook' 'Dell Latitude E5490'\n",
      " 'MSI GF63 Thin 10SCXR' 'Dell Latitude 5420' 'Asus Vivobook X515DA'\n",
      " 'Dell Latitude 5501' 'Dell Inspiron 15 5593' 'ASPIRE 4733z' 'VOSTRO 3500'\n",
      " '15- f004dx' 'PROBOOK MT20 ' 'Ideapad G560' 'Satellite A665 series'\n",
      " 'Lenovo Thinkpad T15 Gen2' 'HP Elitebook folio 1030 G3'\n",
      " 'Dell Inspiron 15 7577' 'Dell Inspiron 13 5310' 'HP Elite-X2 '\n",
      " 'HP Stream 14 Notebook' 'HP Envy 13t' 'Lenovo IdeaPad L340-151RH'\n",
      " 'Acer Aspire E15' 'Lenovo Thinkpad T480s' 'HP Pavilion X360'\n",
      " 'HP 15 Notebook' 'Lenovo Thinkbook 14p' 'HP Elitebook folio 9470m'\n",
      " 'ASUS ROG GL753VD' 'Asus Zenbook Flip 14' 'HP Probook 440 G3'\n",
      " 'DELL XPS 15 9550' 'MSI GL65 9SEK' 'HP Elitebook Folio 1040 G3'\n",
      " 'Dell Precision 5530' 'Microsoft Surface Laptop 3'\n",
      " 'Apple Macbook pro  Retina' 'HP Probook 450 G8' 'Dell Latitude e7240'\n",
      " 'Razer Blade 17' 'Lenovo Yoga 7i' 'MSI Prestige 15' 'Lenovo Legion 5'\n",
      " 'Dll Precision 5540' 'HP Spectre x360' 'DELL XPS 13 9365 x360' 'HP 14 '\n",
      " 'HP Elitebook Folio 1040 G6' 'DELL XPS 13 9380' 'Dell Inspiron 15 7000'\n",
      " 'Razer Blade Stealth 13' 'HP Probook 450 G6' 'Dell Inspiron 15 5515'\n",
      " 'Lenovo Yoga C740-15IML' 'Dell Precision 5520' 'Dell XPS 15 9570'\n",
      " 'Dell Inspiron 7706' 'Microsoft Surface Pro 5' 'Asus ROG Srtix GL503'\n",
      " 'Lenovo Yoga Slim 7-141L05' 'Dell Latitude 7410' 'HP Probook 640 G8'\n",
      " 'Lenovo Thinkpad T480' 'Dell Latitude 7389 x360' 'Lenovo Thinkpad E590'\n",
      " 'HP Probook 440 G7' 'Samsung NP750xda' 'Eluktronics Mtrix RP-15'\n",
      " 'HP Elitebook 830 G5' 'Dell Inspiron 15 5501' 'HP Omen 15' 'HP Envy 13'\n",
      " 'HP Probook 440 G8' 'Dell LLatitude 5580' 'Lenovo Yoga C340 x360'\n",
      " 'HP Pavilion 14 ' 'DELL G5 5505 SE' 'Dell Latiyude 7400'\n",
      " 'HP Spectre 15 x360' 'HP Spectre 13 x360' 'HP Elitebook 840 G8'\n",
      " 'HP Probook G6' 'HP Probook X360 11 G6 EE' 'Microsoft Surface Book 3'\n",
      " 'Dell Latitude E7450' 'HP Elitebook 820 G3' 'Asus Zephyrus G(GU502DA)'\n",
      " 'Dell Alienware 17 R4' 'not specified' 'HP Elite 1040 G3'\n",
      " 'HP Elite 1030 G3']\n"
     ]
    }
   ],
   "source": [
    "print(df['model'].unique())"
   ]
  },
  {
   "cell_type": "code",
   "execution_count": 70,
   "metadata": {},
   "outputs": [
    {
     "data": {
      "text/plain": [
       "array([ 72, 187,  11, 104,  87,   7, 110, 131, 136,  78,  33,  12,  88,\n",
       "       155, 190,  31, 118, 114,   3, 146, 143,  27, 135, 144,  59,  83,\n",
       "        48,   1,  26, 141,  22,  80,  79, 108, 103,  46, 134, 192,  81,\n",
       "        51, 163, 107, 139, 137, 193, 196, 172, 178, 109,  35,  77, 198,\n",
       "        24, 145, 185,  28, 156, 142, 184,  25, 140, 132,  69,  58, 112,\n",
       "        94,  91,  36, 161, 173,  89, 133, 147, 105,  90,  44, 150,  45,\n",
       "       191, 179, 153,  47,  56,   4, 174,  17,  66,  15, 160, 166,  68,\n",
       "         8, 151,  13,  37,  10, 180,  95, 121, 126,   6,  82,  19, 170,\n",
       "       148,  71, 152,  74, 197, 159, 123,  55,  60, 175,  52,  18,  53,\n",
       "        41,   2, 199,   0, 186, 138, 195, 162,  99,  43,  38,  86, 130,\n",
       "       102, 149,   9, 165, 113,  76, 157, 100,   5,  20, 115,  32, 176,\n",
       "        97,  65, 182,  14, 120,  62, 188, 167, 177, 154,  70, 129,  29,\n",
       "        75,  98,  30,  42, 189, 119,  40, 169,  64,  67,  49, 183,  16,\n",
       "       171,  57, 122, 164,  54, 158, 116, 194,  73,  93,  39, 106, 101,\n",
       "       117,  50, 168, 111,  23,  63, 128, 127,  96, 124, 125, 181,  61,\n",
       "        92,  21,  34, 200,  85,  84])"
      ]
     },
     "execution_count": 70,
     "metadata": {},
     "output_type": "execute_result"
    }
   ],
   "source": [
    "from sklearn.preprocessing import LabelEncoder\n",
    "le_model = LabelEncoder()\n",
    "df['model'] = le_model.fit_transform(df['model'])\n",
    "df[\"model\"].unique()"
   ]
  },
  {
   "cell_type": "code",
   "execution_count": 71,
   "metadata": {},
   "outputs": [
    {
     "data": {
      "text/plain": [
       "array([1, 4, 3, 0, 2])"
      ]
     },
     "execution_count": 71,
     "metadata": {},
     "output_type": "execute_result"
    }
   ],
   "source": [
    "le_model_1 = LabelEncoder()\n",
    "df['model.1'] = le_model_1.fit_transform(df['model.1'])\n",
    "df[\"model.1\"].unique()"
   ]
  },
  {
   "cell_type": "code",
   "execution_count": 77,
   "metadata": {},
   "outputs": [
    {
     "data": {
      "text/plain": [
       "array([ 9,  0,  7, 10, 11,  1,  5,  3, 13,  8,  4, 12,  6,  2])"
      ]
     },
     "execution_count": 77,
     "metadata": {},
     "output_type": "execute_result"
    }
   ],
   "source": [
    "le_drive_size = LabelEncoder()\n",
    "df['drive_size'] = le_drive_size.fit_transform(df['drive_size'])\n",
    "df[\"drive_size\"].unique()"
   ]
  },
  {
   "cell_type": "code",
   "execution_count": 78,
   "metadata": {},
   "outputs": [
    {
     "data": {
      "text/plain": [
       "array([ 9,  8,  2,  7,  4,  5,  1,  6,  0, 10,  3])"
      ]
     },
     "execution_count": 78,
     "metadata": {},
     "output_type": "execute_result"
    }
   ],
   "source": [
    "le_processor = LabelEncoder()\n",
    "df['processor'] = le_processor.fit_transform(df['processor'])\n",
    "df[\"processor\"].unique()"
   ]
  },
  {
   "cell_type": "code",
   "execution_count": 79,
   "metadata": {},
   "outputs": [
    {
     "data": {
      "text/plain": [
       "array([25,  0, 21, 23, 33, 20, 13, 26,  8, 14, 27,  7, 11, 18, 29, 16,  6,\n",
       "       15,  3, 12, 17, 19, 38,  9,  4, 31,  1, 36, 24, 34,  5, 10, 32, 30,\n",
       "       22, 28, 39, 37, 35,  2])"
      ]
     },
     "execution_count": 79,
     "metadata": {},
     "output_type": "execute_result"
    }
   ],
   "source": [
    "le_processor_speed = LabelEncoder()\n",
    "df['processor_speed'] = le_processor_speed.fit_transform(df['processor_speed'])\n",
    "df[\"processor_speed\"].unique()"
   ]
  },
  {
   "cell_type": "code",
   "execution_count": 80,
   "metadata": {},
   "outputs": [
    {
     "data": {
      "text/plain": [
       "array([2, 4, 3, 7, 9, 6, 1, 5, 0, 8])"
      ]
     },
     "execution_count": 80,
     "metadata": {},
     "output_type": "execute_result"
    }
   ],
   "source": [
    "le_screen_r_width = LabelEncoder()\n",
    "df['screen_r_width'] = le_screen_r_width.fit_transform(df['screen_r_width'])\n",
    "df[\"screen_r_width\"].unique()"
   ]
  },
  {
   "cell_type": "code",
   "execution_count": 81,
   "metadata": {},
   "outputs": [
    {
     "data": {
      "text/plain": [
       "array([7, 1, 9, 4, 6, 2, 5, 8, 3, 0])"
      ]
     },
     "execution_count": 81,
     "metadata": {},
     "output_type": "execute_result"
    }
   ],
   "source": [
    "le_screen_r_height = LabelEncoder()\n",
    "df['screen_r_height'] = le_screen_r_height.fit_transform(df['screen_r_height'])\n",
    "df[\"screen_r_height\"].unique()"
   ]
  },
  {
   "cell_type": "code",
   "execution_count": 82,
   "metadata": {},
   "outputs": [],
   "source": [
    "X = df.drop(\"price\", axis=1)\n",
    "y = df[\"price\"]"
   ]
  },
  {
   "cell_type": "code",
   "execution_count": 83,
   "metadata": {},
   "outputs": [
    {
     "data": {
      "text/html": [
       "<style>#sk-container-id-5 {color: black;background-color: white;}#sk-container-id-5 pre{padding: 0;}#sk-container-id-5 div.sk-toggleable {background-color: white;}#sk-container-id-5 label.sk-toggleable__label {cursor: pointer;display: block;width: 100%;margin-bottom: 0;padding: 0.3em;box-sizing: border-box;text-align: center;}#sk-container-id-5 label.sk-toggleable__label-arrow:before {content: \"▸\";float: left;margin-right: 0.25em;color: #696969;}#sk-container-id-5 label.sk-toggleable__label-arrow:hover:before {color: black;}#sk-container-id-5 div.sk-estimator:hover label.sk-toggleable__label-arrow:before {color: black;}#sk-container-id-5 div.sk-toggleable__content {max-height: 0;max-width: 0;overflow: hidden;text-align: left;background-color: #f0f8ff;}#sk-container-id-5 div.sk-toggleable__content pre {margin: 0.2em;color: black;border-radius: 0.25em;background-color: #f0f8ff;}#sk-container-id-5 input.sk-toggleable__control:checked~div.sk-toggleable__content {max-height: 200px;max-width: 100%;overflow: auto;}#sk-container-id-5 input.sk-toggleable__control:checked~label.sk-toggleable__label-arrow:before {content: \"▾\";}#sk-container-id-5 div.sk-estimator input.sk-toggleable__control:checked~label.sk-toggleable__label {background-color: #d4ebff;}#sk-container-id-5 div.sk-label input.sk-toggleable__control:checked~label.sk-toggleable__label {background-color: #d4ebff;}#sk-container-id-5 input.sk-hidden--visually {border: 0;clip: rect(1px 1px 1px 1px);clip: rect(1px, 1px, 1px, 1px);height: 1px;margin: -1px;overflow: hidden;padding: 0;position: absolute;width: 1px;}#sk-container-id-5 div.sk-estimator {font-family: monospace;background-color: #f0f8ff;border: 1px dotted black;border-radius: 0.25em;box-sizing: border-box;margin-bottom: 0.5em;}#sk-container-id-5 div.sk-estimator:hover {background-color: #d4ebff;}#sk-container-id-5 div.sk-parallel-item::after {content: \"\";width: 100%;border-bottom: 1px solid gray;flex-grow: 1;}#sk-container-id-5 div.sk-label:hover label.sk-toggleable__label {background-color: #d4ebff;}#sk-container-id-5 div.sk-serial::before {content: \"\";position: absolute;border-left: 1px solid gray;box-sizing: border-box;top: 0;bottom: 0;left: 50%;z-index: 0;}#sk-container-id-5 div.sk-serial {display: flex;flex-direction: column;align-items: center;background-color: white;padding-right: 0.2em;padding-left: 0.2em;position: relative;}#sk-container-id-5 div.sk-item {position: relative;z-index: 1;}#sk-container-id-5 div.sk-parallel {display: flex;align-items: stretch;justify-content: center;background-color: white;position: relative;}#sk-container-id-5 div.sk-item::before, #sk-container-id-5 div.sk-parallel-item::before {content: \"\";position: absolute;border-left: 1px solid gray;box-sizing: border-box;top: 0;bottom: 0;left: 50%;z-index: -1;}#sk-container-id-5 div.sk-parallel-item {display: flex;flex-direction: column;z-index: 1;position: relative;background-color: white;}#sk-container-id-5 div.sk-parallel-item:first-child::after {align-self: flex-end;width: 50%;}#sk-container-id-5 div.sk-parallel-item:last-child::after {align-self: flex-start;width: 50%;}#sk-container-id-5 div.sk-parallel-item:only-child::after {width: 0;}#sk-container-id-5 div.sk-dashed-wrapped {border: 1px dashed gray;margin: 0 0.4em 0.5em 0.4em;box-sizing: border-box;padding-bottom: 0.4em;background-color: white;}#sk-container-id-5 div.sk-label label {font-family: monospace;font-weight: bold;display: inline-block;line-height: 1.2em;}#sk-container-id-5 div.sk-label-container {text-align: center;}#sk-container-id-5 div.sk-container {/* jupyter's `normalize.less` sets `[hidden] { display: none; }` but bootstrap.min.css set `[hidden] { display: none !important; }` so we also need the `!important` here to be able to override the default hidden behavior on the sphinx rendered scikit-learn.org. See: https://github.com/scikit-learn/scikit-learn/issues/21755 */display: inline-block !important;position: relative;}#sk-container-id-5 div.sk-text-repr-fallback {display: none;}</style><div id=\"sk-container-id-5\" class=\"sk-top-container\"><div class=\"sk-text-repr-fallback\"><pre>LinearRegression()</pre><b>In a Jupyter environment, please rerun this cell to show the HTML representation or trust the notebook. <br />On GitHub, the HTML representation is unable to render, please try loading this page with nbviewer.org.</b></div><div class=\"sk-container\" hidden><div class=\"sk-item\"><div class=\"sk-estimator sk-toggleable\"><input class=\"sk-toggleable__control sk-hidden--visually\" id=\"sk-estimator-id-7\" type=\"checkbox\" checked><label for=\"sk-estimator-id-7\" class=\"sk-toggleable__label sk-toggleable__label-arrow\">LinearRegression</label><div class=\"sk-toggleable__content\"><pre>LinearRegression()</pre></div></div></div></div></div>"
      ],
      "text/plain": [
       "LinearRegression()"
      ]
     },
     "execution_count": 83,
     "metadata": {},
     "output_type": "execute_result"
    }
   ],
   "source": [
    "from sklearn.linear_model import LinearRegression\n",
    "linear_reg = LinearRegression()\n",
    "linear_reg.fit(X, y.values)"
   ]
  },
  {
   "cell_type": "code",
   "execution_count": 84,
   "metadata": {},
   "outputs": [],
   "source": [
    "y_pred = linear_reg.predict(X)"
   ]
  },
  {
   "cell_type": "code",
   "execution_count": 85,
   "metadata": {},
   "outputs": [],
   "source": [
    "from sklearn.metrics import mean_squared_error, mean_absolute_error,mean_absolute_percentage_error,r2_score\n",
    "import numpy as np\n",
    "error = np.sqrt(mean_squared_error(y, y_pred))\n",
    "erro2 = mean_absolute_percentage_error(y,y_pred)\n",
    "acuuracy = r2_score(y,y_pred)"
   ]
  },
  {
   "cell_type": "code",
   "execution_count": 86,
   "metadata": {},
   "outputs": [
    {
     "name": "stdout",
     "output_type": "stream",
     "text": [
      "0.5893582081143498\n",
      "106445.76255236533\n",
      "0.2507610384259588\n"
     ]
    }
   ],
   "source": [
    "print(acuuracy)\n",
    "print(error)\n",
    "print(erro2)"
   ]
  },
  {
   "cell_type": "code",
   "execution_count": 87,
   "metadata": {},
   "outputs": [
    {
     "data": {
      "text/html": [
       "<style>#sk-container-id-6 {color: black;background-color: white;}#sk-container-id-6 pre{padding: 0;}#sk-container-id-6 div.sk-toggleable {background-color: white;}#sk-container-id-6 label.sk-toggleable__label {cursor: pointer;display: block;width: 100%;margin-bottom: 0;padding: 0.3em;box-sizing: border-box;text-align: center;}#sk-container-id-6 label.sk-toggleable__label-arrow:before {content: \"▸\";float: left;margin-right: 0.25em;color: #696969;}#sk-container-id-6 label.sk-toggleable__label-arrow:hover:before {color: black;}#sk-container-id-6 div.sk-estimator:hover label.sk-toggleable__label-arrow:before {color: black;}#sk-container-id-6 div.sk-toggleable__content {max-height: 0;max-width: 0;overflow: hidden;text-align: left;background-color: #f0f8ff;}#sk-container-id-6 div.sk-toggleable__content pre {margin: 0.2em;color: black;border-radius: 0.25em;background-color: #f0f8ff;}#sk-container-id-6 input.sk-toggleable__control:checked~div.sk-toggleable__content {max-height: 200px;max-width: 100%;overflow: auto;}#sk-container-id-6 input.sk-toggleable__control:checked~label.sk-toggleable__label-arrow:before {content: \"▾\";}#sk-container-id-6 div.sk-estimator input.sk-toggleable__control:checked~label.sk-toggleable__label {background-color: #d4ebff;}#sk-container-id-6 div.sk-label input.sk-toggleable__control:checked~label.sk-toggleable__label {background-color: #d4ebff;}#sk-container-id-6 input.sk-hidden--visually {border: 0;clip: rect(1px 1px 1px 1px);clip: rect(1px, 1px, 1px, 1px);height: 1px;margin: -1px;overflow: hidden;padding: 0;position: absolute;width: 1px;}#sk-container-id-6 div.sk-estimator {font-family: monospace;background-color: #f0f8ff;border: 1px dotted black;border-radius: 0.25em;box-sizing: border-box;margin-bottom: 0.5em;}#sk-container-id-6 div.sk-estimator:hover {background-color: #d4ebff;}#sk-container-id-6 div.sk-parallel-item::after {content: \"\";width: 100%;border-bottom: 1px solid gray;flex-grow: 1;}#sk-container-id-6 div.sk-label:hover label.sk-toggleable__label {background-color: #d4ebff;}#sk-container-id-6 div.sk-serial::before {content: \"\";position: absolute;border-left: 1px solid gray;box-sizing: border-box;top: 0;bottom: 0;left: 50%;z-index: 0;}#sk-container-id-6 div.sk-serial {display: flex;flex-direction: column;align-items: center;background-color: white;padding-right: 0.2em;padding-left: 0.2em;position: relative;}#sk-container-id-6 div.sk-item {position: relative;z-index: 1;}#sk-container-id-6 div.sk-parallel {display: flex;align-items: stretch;justify-content: center;background-color: white;position: relative;}#sk-container-id-6 div.sk-item::before, #sk-container-id-6 div.sk-parallel-item::before {content: \"\";position: absolute;border-left: 1px solid gray;box-sizing: border-box;top: 0;bottom: 0;left: 50%;z-index: -1;}#sk-container-id-6 div.sk-parallel-item {display: flex;flex-direction: column;z-index: 1;position: relative;background-color: white;}#sk-container-id-6 div.sk-parallel-item:first-child::after {align-self: flex-end;width: 50%;}#sk-container-id-6 div.sk-parallel-item:last-child::after {align-self: flex-start;width: 50%;}#sk-container-id-6 div.sk-parallel-item:only-child::after {width: 0;}#sk-container-id-6 div.sk-dashed-wrapped {border: 1px dashed gray;margin: 0 0.4em 0.5em 0.4em;box-sizing: border-box;padding-bottom: 0.4em;background-color: white;}#sk-container-id-6 div.sk-label label {font-family: monospace;font-weight: bold;display: inline-block;line-height: 1.2em;}#sk-container-id-6 div.sk-label-container {text-align: center;}#sk-container-id-6 div.sk-container {/* jupyter's `normalize.less` sets `[hidden] { display: none; }` but bootstrap.min.css set `[hidden] { display: none !important; }` so we also need the `!important` here to be able to override the default hidden behavior on the sphinx rendered scikit-learn.org. See: https://github.com/scikit-learn/scikit-learn/issues/21755 */display: inline-block !important;position: relative;}#sk-container-id-6 div.sk-text-repr-fallback {display: none;}</style><div id=\"sk-container-id-6\" class=\"sk-top-container\"><div class=\"sk-text-repr-fallback\"><pre>DecisionTreeRegressor(random_state=0)</pre><b>In a Jupyter environment, please rerun this cell to show the HTML representation or trust the notebook. <br />On GitHub, the HTML representation is unable to render, please try loading this page with nbviewer.org.</b></div><div class=\"sk-container\" hidden><div class=\"sk-item\"><div class=\"sk-estimator sk-toggleable\"><input class=\"sk-toggleable__control sk-hidden--visually\" id=\"sk-estimator-id-8\" type=\"checkbox\" checked><label for=\"sk-estimator-id-8\" class=\"sk-toggleable__label sk-toggleable__label-arrow\">DecisionTreeRegressor</label><div class=\"sk-toggleable__content\"><pre>DecisionTreeRegressor(random_state=0)</pre></div></div></div></div></div>"
      ],
      "text/plain": [
       "DecisionTreeRegressor(random_state=0)"
      ]
     },
     "execution_count": 87,
     "metadata": {},
     "output_type": "execute_result"
    }
   ],
   "source": [
    "from sklearn.tree import DecisionTreeRegressor\n",
    "dec_tree_reg = DecisionTreeRegressor(random_state=0)\n",
    "dec_tree_reg.fit(X, y.values)"
   ]
  },
  {
   "cell_type": "code",
   "execution_count": 88,
   "metadata": {},
   "outputs": [],
   "source": [
    "y_pred = dec_tree_reg.predict(X)"
   ]
  },
  {
   "cell_type": "code",
   "execution_count": 89,
   "metadata": {},
   "outputs": [],
   "source": [
    "error2 = np.sqrt(mean_squared_error(y, y_pred))\n",
    "erro22 = mean_absolute_percentage_error(y,y_pred)\n",
    "acuuracy2 = r2_score(y,y_pred)"
   ]
  },
  {
   "cell_type": "code",
   "execution_count": 90,
   "metadata": {},
   "outputs": [
    {
     "name": "stdout",
     "output_type": "stream",
     "text": [
      "1.0\n",
      "0.0\n",
      "0.0\n"
     ]
    }
   ],
   "source": [
    "print(acuuracy2)\n",
    "print(error2)\n",
    "print(erro22)"
   ]
  },
  {
   "cell_type": "code",
   "execution_count": 91,
   "metadata": {},
   "outputs": [
    {
     "data": {
      "text/html": [
       "<style>#sk-container-id-7 {color: black;background-color: white;}#sk-container-id-7 pre{padding: 0;}#sk-container-id-7 div.sk-toggleable {background-color: white;}#sk-container-id-7 label.sk-toggleable__label {cursor: pointer;display: block;width: 100%;margin-bottom: 0;padding: 0.3em;box-sizing: border-box;text-align: center;}#sk-container-id-7 label.sk-toggleable__label-arrow:before {content: \"▸\";float: left;margin-right: 0.25em;color: #696969;}#sk-container-id-7 label.sk-toggleable__label-arrow:hover:before {color: black;}#sk-container-id-7 div.sk-estimator:hover label.sk-toggleable__label-arrow:before {color: black;}#sk-container-id-7 div.sk-toggleable__content {max-height: 0;max-width: 0;overflow: hidden;text-align: left;background-color: #f0f8ff;}#sk-container-id-7 div.sk-toggleable__content pre {margin: 0.2em;color: black;border-radius: 0.25em;background-color: #f0f8ff;}#sk-container-id-7 input.sk-toggleable__control:checked~div.sk-toggleable__content {max-height: 200px;max-width: 100%;overflow: auto;}#sk-container-id-7 input.sk-toggleable__control:checked~label.sk-toggleable__label-arrow:before {content: \"▾\";}#sk-container-id-7 div.sk-estimator input.sk-toggleable__control:checked~label.sk-toggleable__label {background-color: #d4ebff;}#sk-container-id-7 div.sk-label input.sk-toggleable__control:checked~label.sk-toggleable__label {background-color: #d4ebff;}#sk-container-id-7 input.sk-hidden--visually {border: 0;clip: rect(1px 1px 1px 1px);clip: rect(1px, 1px, 1px, 1px);height: 1px;margin: -1px;overflow: hidden;padding: 0;position: absolute;width: 1px;}#sk-container-id-7 div.sk-estimator {font-family: monospace;background-color: #f0f8ff;border: 1px dotted black;border-radius: 0.25em;box-sizing: border-box;margin-bottom: 0.5em;}#sk-container-id-7 div.sk-estimator:hover {background-color: #d4ebff;}#sk-container-id-7 div.sk-parallel-item::after {content: \"\";width: 100%;border-bottom: 1px solid gray;flex-grow: 1;}#sk-container-id-7 div.sk-label:hover label.sk-toggleable__label {background-color: #d4ebff;}#sk-container-id-7 div.sk-serial::before {content: \"\";position: absolute;border-left: 1px solid gray;box-sizing: border-box;top: 0;bottom: 0;left: 50%;z-index: 0;}#sk-container-id-7 div.sk-serial {display: flex;flex-direction: column;align-items: center;background-color: white;padding-right: 0.2em;padding-left: 0.2em;position: relative;}#sk-container-id-7 div.sk-item {position: relative;z-index: 1;}#sk-container-id-7 div.sk-parallel {display: flex;align-items: stretch;justify-content: center;background-color: white;position: relative;}#sk-container-id-7 div.sk-item::before, #sk-container-id-7 div.sk-parallel-item::before {content: \"\";position: absolute;border-left: 1px solid gray;box-sizing: border-box;top: 0;bottom: 0;left: 50%;z-index: -1;}#sk-container-id-7 div.sk-parallel-item {display: flex;flex-direction: column;z-index: 1;position: relative;background-color: white;}#sk-container-id-7 div.sk-parallel-item:first-child::after {align-self: flex-end;width: 50%;}#sk-container-id-7 div.sk-parallel-item:last-child::after {align-self: flex-start;width: 50%;}#sk-container-id-7 div.sk-parallel-item:only-child::after {width: 0;}#sk-container-id-7 div.sk-dashed-wrapped {border: 1px dashed gray;margin: 0 0.4em 0.5em 0.4em;box-sizing: border-box;padding-bottom: 0.4em;background-color: white;}#sk-container-id-7 div.sk-label label {font-family: monospace;font-weight: bold;display: inline-block;line-height: 1.2em;}#sk-container-id-7 div.sk-label-container {text-align: center;}#sk-container-id-7 div.sk-container {/* jupyter's `normalize.less` sets `[hidden] { display: none; }` but bootstrap.min.css set `[hidden] { display: none !important; }` so we also need the `!important` here to be able to override the default hidden behavior on the sphinx rendered scikit-learn.org. See: https://github.com/scikit-learn/scikit-learn/issues/21755 */display: inline-block !important;position: relative;}#sk-container-id-7 div.sk-text-repr-fallback {display: none;}</style><div id=\"sk-container-id-7\" class=\"sk-top-container\"><div class=\"sk-text-repr-fallback\"><pre>RandomForestRegressor(random_state=0)</pre><b>In a Jupyter environment, please rerun this cell to show the HTML representation or trust the notebook. <br />On GitHub, the HTML representation is unable to render, please try loading this page with nbviewer.org.</b></div><div class=\"sk-container\" hidden><div class=\"sk-item\"><div class=\"sk-estimator sk-toggleable\"><input class=\"sk-toggleable__control sk-hidden--visually\" id=\"sk-estimator-id-9\" type=\"checkbox\" checked><label for=\"sk-estimator-id-9\" class=\"sk-toggleable__label sk-toggleable__label-arrow\">RandomForestRegressor</label><div class=\"sk-toggleable__content\"><pre>RandomForestRegressor(random_state=0)</pre></div></div></div></div></div>"
      ],
      "text/plain": [
       "RandomForestRegressor(random_state=0)"
      ]
     },
     "execution_count": 91,
     "metadata": {},
     "output_type": "execute_result"
    }
   ],
   "source": [
    "from sklearn.ensemble import RandomForestRegressor\n",
    "random_forest_reg = RandomForestRegressor(random_state=0)\n",
    "random_forest_reg.fit(X, y.values)"
   ]
  },
  {
   "cell_type": "code",
   "execution_count": 92,
   "metadata": {},
   "outputs": [],
   "source": [
    "y_pred = random_forest_reg.predict(X)"
   ]
  },
  {
   "cell_type": "code",
   "execution_count": 93,
   "metadata": {},
   "outputs": [],
   "source": [
    "error2 = np.sqrt(mean_squared_error(y, y_pred))\n",
    "erro22 = mean_absolute_percentage_error(y,y_pred)\n",
    "acuuracy2 = r2_score(y,y_pred)"
   ]
  },
  {
   "cell_type": "code",
   "execution_count": 94,
   "metadata": {},
   "outputs": [
    {
     "name": "stdout",
     "output_type": "stream",
     "text": [
      "0.9444179844933479\n",
      "39161.91765043441\n",
      "0.08170579043138018\n"
     ]
    }
   ],
   "source": [
    "print(acuuracy2)\n",
    "print(error2)\n",
    "print(erro22)"
   ]
  },
  {
   "cell_type": "code",
   "execution_count": 95,
   "metadata": {},
   "outputs": [
    {
     "data": {
      "text/html": [
       "<style>#sk-container-id-8 {color: black;background-color: white;}#sk-container-id-8 pre{padding: 0;}#sk-container-id-8 div.sk-toggleable {background-color: white;}#sk-container-id-8 label.sk-toggleable__label {cursor: pointer;display: block;width: 100%;margin-bottom: 0;padding: 0.3em;box-sizing: border-box;text-align: center;}#sk-container-id-8 label.sk-toggleable__label-arrow:before {content: \"▸\";float: left;margin-right: 0.25em;color: #696969;}#sk-container-id-8 label.sk-toggleable__label-arrow:hover:before {color: black;}#sk-container-id-8 div.sk-estimator:hover label.sk-toggleable__label-arrow:before {color: black;}#sk-container-id-8 div.sk-toggleable__content {max-height: 0;max-width: 0;overflow: hidden;text-align: left;background-color: #f0f8ff;}#sk-container-id-8 div.sk-toggleable__content pre {margin: 0.2em;color: black;border-radius: 0.25em;background-color: #f0f8ff;}#sk-container-id-8 input.sk-toggleable__control:checked~div.sk-toggleable__content {max-height: 200px;max-width: 100%;overflow: auto;}#sk-container-id-8 input.sk-toggleable__control:checked~label.sk-toggleable__label-arrow:before {content: \"▾\";}#sk-container-id-8 div.sk-estimator input.sk-toggleable__control:checked~label.sk-toggleable__label {background-color: #d4ebff;}#sk-container-id-8 div.sk-label input.sk-toggleable__control:checked~label.sk-toggleable__label {background-color: #d4ebff;}#sk-container-id-8 input.sk-hidden--visually {border: 0;clip: rect(1px 1px 1px 1px);clip: rect(1px, 1px, 1px, 1px);height: 1px;margin: -1px;overflow: hidden;padding: 0;position: absolute;width: 1px;}#sk-container-id-8 div.sk-estimator {font-family: monospace;background-color: #f0f8ff;border: 1px dotted black;border-radius: 0.25em;box-sizing: border-box;margin-bottom: 0.5em;}#sk-container-id-8 div.sk-estimator:hover {background-color: #d4ebff;}#sk-container-id-8 div.sk-parallel-item::after {content: \"\";width: 100%;border-bottom: 1px solid gray;flex-grow: 1;}#sk-container-id-8 div.sk-label:hover label.sk-toggleable__label {background-color: #d4ebff;}#sk-container-id-8 div.sk-serial::before {content: \"\";position: absolute;border-left: 1px solid gray;box-sizing: border-box;top: 0;bottom: 0;left: 50%;z-index: 0;}#sk-container-id-8 div.sk-serial {display: flex;flex-direction: column;align-items: center;background-color: white;padding-right: 0.2em;padding-left: 0.2em;position: relative;}#sk-container-id-8 div.sk-item {position: relative;z-index: 1;}#sk-container-id-8 div.sk-parallel {display: flex;align-items: stretch;justify-content: center;background-color: white;position: relative;}#sk-container-id-8 div.sk-item::before, #sk-container-id-8 div.sk-parallel-item::before {content: \"\";position: absolute;border-left: 1px solid gray;box-sizing: border-box;top: 0;bottom: 0;left: 50%;z-index: -1;}#sk-container-id-8 div.sk-parallel-item {display: flex;flex-direction: column;z-index: 1;position: relative;background-color: white;}#sk-container-id-8 div.sk-parallel-item:first-child::after {align-self: flex-end;width: 50%;}#sk-container-id-8 div.sk-parallel-item:last-child::after {align-self: flex-start;width: 50%;}#sk-container-id-8 div.sk-parallel-item:only-child::after {width: 0;}#sk-container-id-8 div.sk-dashed-wrapped {border: 1px dashed gray;margin: 0 0.4em 0.5em 0.4em;box-sizing: border-box;padding-bottom: 0.4em;background-color: white;}#sk-container-id-8 div.sk-label label {font-family: monospace;font-weight: bold;display: inline-block;line-height: 1.2em;}#sk-container-id-8 div.sk-label-container {text-align: center;}#sk-container-id-8 div.sk-container {/* jupyter's `normalize.less` sets `[hidden] { display: none; }` but bootstrap.min.css set `[hidden] { display: none !important; }` so we also need the `!important` here to be able to override the default hidden behavior on the sphinx rendered scikit-learn.org. See: https://github.com/scikit-learn/scikit-learn/issues/21755 */display: inline-block !important;position: relative;}#sk-container-id-8 div.sk-text-repr-fallback {display: none;}</style><div id=\"sk-container-id-8\" class=\"sk-top-container\"><div class=\"sk-text-repr-fallback\"><pre>GridSearchCV(estimator=RandomForestRegressor(random_state=0),\n",
       "             param_grid={&#x27;max_depth&#x27;: [None, 2, 4, 6, 8, 10, 12]},\n",
       "             scoring=&#x27;neg_mean_squared_error&#x27;)</pre><b>In a Jupyter environment, please rerun this cell to show the HTML representation or trust the notebook. <br />On GitHub, the HTML representation is unable to render, please try loading this page with nbviewer.org.</b></div><div class=\"sk-container\" hidden><div class=\"sk-item sk-dashed-wrapped\"><div class=\"sk-label-container\"><div class=\"sk-label sk-toggleable\"><input class=\"sk-toggleable__control sk-hidden--visually\" id=\"sk-estimator-id-10\" type=\"checkbox\" ><label for=\"sk-estimator-id-10\" class=\"sk-toggleable__label sk-toggleable__label-arrow\">GridSearchCV</label><div class=\"sk-toggleable__content\"><pre>GridSearchCV(estimator=RandomForestRegressor(random_state=0),\n",
       "             param_grid={&#x27;max_depth&#x27;: [None, 2, 4, 6, 8, 10, 12]},\n",
       "             scoring=&#x27;neg_mean_squared_error&#x27;)</pre></div></div></div><div class=\"sk-parallel\"><div class=\"sk-parallel-item\"><div class=\"sk-item\"><div class=\"sk-label-container\"><div class=\"sk-label sk-toggleable\"><input class=\"sk-toggleable__control sk-hidden--visually\" id=\"sk-estimator-id-11\" type=\"checkbox\" ><label for=\"sk-estimator-id-11\" class=\"sk-toggleable__label sk-toggleable__label-arrow\">estimator: RandomForestRegressor</label><div class=\"sk-toggleable__content\"><pre>RandomForestRegressor(random_state=0)</pre></div></div></div><div class=\"sk-serial\"><div class=\"sk-item\"><div class=\"sk-estimator sk-toggleable\"><input class=\"sk-toggleable__control sk-hidden--visually\" id=\"sk-estimator-id-12\" type=\"checkbox\" ><label for=\"sk-estimator-id-12\" class=\"sk-toggleable__label sk-toggleable__label-arrow\">RandomForestRegressor</label><div class=\"sk-toggleable__content\"><pre>RandomForestRegressor(random_state=0)</pre></div></div></div></div></div></div></div></div></div></div>"
      ],
      "text/plain": [
       "GridSearchCV(estimator=RandomForestRegressor(random_state=0),\n",
       "             param_grid={'max_depth': [None, 2, 4, 6, 8, 10, 12]},\n",
       "             scoring='neg_mean_squared_error')"
      ]
     },
     "execution_count": 95,
     "metadata": {},
     "output_type": "execute_result"
    }
   ],
   "source": [
    "from sklearn.model_selection import GridSearchCV\n",
    "\n",
    "max_depth = [None, 2,4,6,8,10,12]\n",
    "parameters = {\"max_depth\": max_depth}\n",
    "\n",
    "regressor = RandomForestRegressor(random_state=0)\n",
    "gs = GridSearchCV(regressor, parameters, scoring='neg_mean_squared_error')\n",
    "gs.fit(X, y.values)"
   ]
  },
  {
   "cell_type": "code",
   "execution_count": 96,
   "metadata": {},
   "outputs": [
    {
     "name": "stdout",
     "output_type": "stream",
     "text": [
      "39,315.93\n"
     ]
    }
   ],
   "source": [
    "regressor = gs.best_estimator_\n",
    "\n",
    "regressor.fit(X, y.values)\n",
    "y_pred = regressor.predict(X)\n",
    "error = np.sqrt(mean_squared_error(y, y_pred))\n",
    "print(\"{:,.02f}\".format(error))"
   ]
  },
  {
   "cell_type": "code",
   "execution_count": 97,
   "metadata": {},
   "outputs": [
    {
     "data": {
      "text/html": [
       "<div>\n",
       "<style scoped>\n",
       "    .dataframe tbody tr th:only-of-type {\n",
       "        vertical-align: middle;\n",
       "    }\n",
       "\n",
       "    .dataframe tbody tr th {\n",
       "        vertical-align: top;\n",
       "    }\n",
       "\n",
       "    .dataframe thead th {\n",
       "        text-align: right;\n",
       "    }\n",
       "</style>\n",
       "<table border=\"1\" class=\"dataframe\">\n",
       "  <thead>\n",
       "    <tr style=\"text-align: right;\">\n",
       "      <th></th>\n",
       "      <th>model</th>\n",
       "      <th>model.1</th>\n",
       "      <th>drive_size</th>\n",
       "      <th>ram</th>\n",
       "      <th>processor</th>\n",
       "      <th>gen</th>\n",
       "      <th>processor_speed</th>\n",
       "      <th>screen_size</th>\n",
       "      <th>screen_r_width</th>\n",
       "      <th>screen_r_height</th>\n",
       "      <th>touch_screen</th>\n",
       "      <th>keyboard_light</th>\n",
       "      <th>hdmi</th>\n",
       "    </tr>\n",
       "  </thead>\n",
       "  <tbody>\n",
       "    <tr>\n",
       "      <th>0</th>\n",
       "      <td>72</td>\n",
       "      <td>1</td>\n",
       "      <td>9</td>\n",
       "      <td>4</td>\n",
       "      <td>9</td>\n",
       "      <td>2.0</td>\n",
       "      <td>25</td>\n",
       "      <td>12.5</td>\n",
       "      <td>2</td>\n",
       "      <td>7</td>\n",
       "      <td>0.0</td>\n",
       "      <td>0.0</td>\n",
       "      <td>0.0</td>\n",
       "    </tr>\n",
       "    <tr>\n",
       "      <th>1</th>\n",
       "      <td>187</td>\n",
       "      <td>4</td>\n",
       "      <td>0</td>\n",
       "      <td>16</td>\n",
       "      <td>9</td>\n",
       "      <td>8.0</td>\n",
       "      <td>0</td>\n",
       "      <td>15.6</td>\n",
       "      <td>4</td>\n",
       "      <td>1</td>\n",
       "      <td>0.0</td>\n",
       "      <td>1.0</td>\n",
       "      <td>1.0</td>\n",
       "    </tr>\n",
       "    <tr>\n",
       "      <th>2</th>\n",
       "      <td>11</td>\n",
       "      <td>4</td>\n",
       "      <td>7</td>\n",
       "      <td>8</td>\n",
       "      <td>8</td>\n",
       "      <td>10.0</td>\n",
       "      <td>21</td>\n",
       "      <td>15.0</td>\n",
       "      <td>4</td>\n",
       "      <td>1</td>\n",
       "      <td>0.0</td>\n",
       "      <td>1.0</td>\n",
       "      <td>1.0</td>\n",
       "    </tr>\n",
       "    <tr>\n",
       "      <th>3</th>\n",
       "      <td>104</td>\n",
       "      <td>1</td>\n",
       "      <td>10</td>\n",
       "      <td>8</td>\n",
       "      <td>8</td>\n",
       "      <td>4.0</td>\n",
       "      <td>23</td>\n",
       "      <td>14.0</td>\n",
       "      <td>3</td>\n",
       "      <td>9</td>\n",
       "      <td>0.0</td>\n",
       "      <td>1.0</td>\n",
       "      <td>0.0</td>\n",
       "    </tr>\n",
       "    <tr>\n",
       "      <th>4</th>\n",
       "      <td>87</td>\n",
       "      <td>1</td>\n",
       "      <td>9</td>\n",
       "      <td>4</td>\n",
       "      <td>8</td>\n",
       "      <td>1.0</td>\n",
       "      <td>23</td>\n",
       "      <td>14.0</td>\n",
       "      <td>2</td>\n",
       "      <td>7</td>\n",
       "      <td>0.0</td>\n",
       "      <td>0.0</td>\n",
       "      <td>0.0</td>\n",
       "    </tr>\n",
       "    <tr>\n",
       "      <th>...</th>\n",
       "      <td>...</td>\n",
       "      <td>...</td>\n",
       "      <td>...</td>\n",
       "      <td>...</td>\n",
       "      <td>...</td>\n",
       "      <td>...</td>\n",
       "      <td>...</td>\n",
       "      <td>...</td>\n",
       "      <td>...</td>\n",
       "      <td>...</td>\n",
       "      <td>...</td>\n",
       "      <td>...</td>\n",
       "      <td>...</td>\n",
       "    </tr>\n",
       "    <tr>\n",
       "      <th>197</th>\n",
       "      <td>21</td>\n",
       "      <td>0</td>\n",
       "      <td>11</td>\n",
       "      <td>16</td>\n",
       "      <td>9</td>\n",
       "      <td>0.0</td>\n",
       "      <td>19</td>\n",
       "      <td>15.6</td>\n",
       "      <td>4</td>\n",
       "      <td>1</td>\n",
       "      <td>0.0</td>\n",
       "      <td>1.0</td>\n",
       "      <td>1.0</td>\n",
       "    </tr>\n",
       "    <tr>\n",
       "      <th>198</th>\n",
       "      <td>34</td>\n",
       "      <td>4</td>\n",
       "      <td>4</td>\n",
       "      <td>16</td>\n",
       "      <td>9</td>\n",
       "      <td>7.0</td>\n",
       "      <td>27</td>\n",
       "      <td>17.3</td>\n",
       "      <td>4</td>\n",
       "      <td>1</td>\n",
       "      <td>0.0</td>\n",
       "      <td>1.0</td>\n",
       "      <td>1.0</td>\n",
       "    </tr>\n",
       "    <tr>\n",
       "      <th>199</th>\n",
       "      <td>200</td>\n",
       "      <td>4</td>\n",
       "      <td>7</td>\n",
       "      <td>16</td>\n",
       "      <td>9</td>\n",
       "      <td>8.0</td>\n",
       "      <td>12</td>\n",
       "      <td>14.0</td>\n",
       "      <td>4</td>\n",
       "      <td>1</td>\n",
       "      <td>1.0</td>\n",
       "      <td>1.0</td>\n",
       "      <td>1.0</td>\n",
       "    </tr>\n",
       "    <tr>\n",
       "      <th>200</th>\n",
       "      <td>85</td>\n",
       "      <td>4</td>\n",
       "      <td>7</td>\n",
       "      <td>8</td>\n",
       "      <td>8</td>\n",
       "      <td>6.0</td>\n",
       "      <td>14</td>\n",
       "      <td>14.0</td>\n",
       "      <td>4</td>\n",
       "      <td>1</td>\n",
       "      <td>1.0</td>\n",
       "      <td>1.0</td>\n",
       "      <td>1.0</td>\n",
       "    </tr>\n",
       "    <tr>\n",
       "      <th>201</th>\n",
       "      <td>84</td>\n",
       "      <td>4</td>\n",
       "      <td>11</td>\n",
       "      <td>8</td>\n",
       "      <td>8</td>\n",
       "      <td>8.0</td>\n",
       "      <td>23</td>\n",
       "      <td>13.0</td>\n",
       "      <td>4</td>\n",
       "      <td>1</td>\n",
       "      <td>1.0</td>\n",
       "      <td>1.0</td>\n",
       "      <td>1.0</td>\n",
       "    </tr>\n",
       "  </tbody>\n",
       "</table>\n",
       "<p>202 rows × 13 columns</p>\n",
       "</div>"
      ],
      "text/plain": [
       "     model  model.1  drive_size  ram  processor   gen  processor_speed  \\\n",
       "0       72        1           9    4          9   2.0               25   \n",
       "1      187        4           0   16          9   8.0                0   \n",
       "2       11        4           7    8          8  10.0               21   \n",
       "3      104        1          10    8          8   4.0               23   \n",
       "4       87        1           9    4          8   1.0               23   \n",
       "..     ...      ...         ...  ...        ...   ...              ...   \n",
       "197     21        0          11   16          9   0.0               19   \n",
       "198     34        4           4   16          9   7.0               27   \n",
       "199    200        4           7   16          9   8.0               12   \n",
       "200     85        4           7    8          8   6.0               14   \n",
       "201     84        4          11    8          8   8.0               23   \n",
       "\n",
       "     screen_size  screen_r_width  screen_r_height  touch_screen  \\\n",
       "0           12.5               2                7           0.0   \n",
       "1           15.6               4                1           0.0   \n",
       "2           15.0               4                1           0.0   \n",
       "3           14.0               3                9           0.0   \n",
       "4           14.0               2                7           0.0   \n",
       "..           ...             ...              ...           ...   \n",
       "197         15.6               4                1           0.0   \n",
       "198         17.3               4                1           0.0   \n",
       "199         14.0               4                1           1.0   \n",
       "200         14.0               4                1           1.0   \n",
       "201         13.0               4                1           1.0   \n",
       "\n",
       "     keyboard_light  hdmi  \n",
       "0               0.0   0.0  \n",
       "1               1.0   1.0  \n",
       "2               1.0   1.0  \n",
       "3               1.0   0.0  \n",
       "4               0.0   0.0  \n",
       "..              ...   ...  \n",
       "197             1.0   1.0  \n",
       "198             1.0   1.0  \n",
       "199             1.0   1.0  \n",
       "200             1.0   1.0  \n",
       "201             1.0   1.0  \n",
       "\n",
       "[202 rows x 13 columns]"
      ]
     },
     "execution_count": 97,
     "metadata": {},
     "output_type": "execute_result"
    }
   ],
   "source": [
    "X"
   ]
  },
  {
   "cell_type": "code",
   "execution_count": 98,
   "metadata": {},
   "outputs": [],
   "source": [
    "#model\tmodel.1\tdrive_size\tram\tprocessor\tgen\tprocessor_speed\tscreen_size\tscreen_r_width\tscreen_r_height\ttouch_screen\tkeyboard_light\thdmi"
   ]
  },
  {
   "cell_type": "code",
   "execution_count": 99,
   "metadata": {},
   "outputs": [
    {
     "data": {
      "text/plain": [
       "array([['EliteBook 2560p', 'hdd', '320', '4', 'i7', '2.0', '2.7', '12.5',\n",
       "        '1366', '768', '0.0', '0.0', '0.0']], dtype='<U32')"
      ]
     },
     "execution_count": 99,
     "metadata": {},
     "output_type": "execute_result"
    }
   ],
   "source": [
    "X = np.array([['EliteBook 2560p','hdd','320',4,'i7',2.0,'2.7',12.5,'1366','768',0.0,0.0,0.0\t]])\n",
    "X"
   ]
  },
  {
   "cell_type": "code",
   "execution_count": 100,
   "metadata": {},
   "outputs": [
    {
     "data": {
      "text/plain": [
       "array([[72. ,  1. ,  9. ,  4. ,  9. ,  2. , 25. , 12.5,  2. ,  7. ,  0. ,\n",
       "         0. ,  0. ]])"
      ]
     },
     "execution_count": 100,
     "metadata": {},
     "output_type": "execute_result"
    }
   ],
   "source": [
    "X[:, 0] = le_model.transform(X[:,0])\n",
    "X[:, 1] = le_model_1.transform(X[:,1])\n",
    "X[:, 2] = le_drive_size.transform(X[:,2])\n",
    "X[:, 4] = le_processor.transform(X[:,4])\n",
    "X[:, 6] = le_processor_speed.transform(X[:,6])\n",
    "X[:, 8] = le_screen_r_width.transform(X[:,8])\n",
    "X[:, 9] = le_screen_r_height.transform(X[:,9])\n",
    "X = X.astype(float)\n",
    "X\n"
   ]
  },
  {
   "cell_type": "code",
   "execution_count": 101,
   "metadata": {},
   "outputs": [
    {
     "name": "stderr",
     "output_type": "stream",
     "text": [
      "c:\\Users\\Simeon\\AppData\\Local\\Programs\\Python\\Python310\\lib\\site-packages\\sklearn\\base.py:450: UserWarning: X does not have valid feature names, but RandomForestRegressor was fitted with feature names\n",
      "  warnings.warn(\n"
     ]
    },
    {
     "data": {
      "text/plain": [
       "array([96060.])"
      ]
     },
     "execution_count": 101,
     "metadata": {},
     "output_type": "execute_result"
    }
   ],
   "source": [
    "y_pred = regressor.predict(X)\n",
    "y_pred"
   ]
  },
  {
   "cell_type": "code",
   "execution_count": 102,
   "metadata": {},
   "outputs": [],
   "source": [
    "import pickle"
   ]
  },
  {
   "cell_type": "code",
   "execution_count": 103,
   "metadata": {},
   "outputs": [],
   "source": [
    "data = {\"model\": regressor, \"le_model\": le_model, \"le_model_1\": le_model_1,\"le_drive_size\": le_drive_size,\"le_processor\": le_processor,\"le_processor_speed\": le_processor_speed,\"le_screen_r_width\": le_screen_r_width,\"le_screen_r_height\": le_screen_r_height}\n",
    "with open('saved_steps.pkl', 'wb') as file:\n",
    "    pickle.dump(data, file)"
   ]
  },
  {
   "cell_type": "code",
   "execution_count": 104,
   "metadata": {},
   "outputs": [],
   "source": [
    "with open('saved_steps.pkl', 'rb') as file:\n",
    "    data = pickle.load(file)\n",
    "\n",
    "regressor_loaded = data[\"model\"]"
   ]
  },
  {
   "cell_type": "code",
   "execution_count": 105,
   "metadata": {},
   "outputs": [
    {
     "name": "stderr",
     "output_type": "stream",
     "text": [
      "c:\\Users\\Simeon\\AppData\\Local\\Programs\\Python\\Python310\\lib\\site-packages\\sklearn\\base.py:450: UserWarning: X does not have valid feature names, but RandomForestRegressor was fitted with feature names\n",
      "  warnings.warn(\n"
     ]
    },
    {
     "data": {
      "text/plain": [
       "array([96060.])"
      ]
     },
     "execution_count": 105,
     "metadata": {},
     "output_type": "execute_result"
    }
   ],
   "source": [
    "y_pred = regressor_loaded.predict(X)\n",
    "y_pred"
   ]
  },
  {
   "cell_type": "code",
   "execution_count": null,
   "metadata": {},
   "outputs": [],
   "source": []
  }
 ],
 "metadata": {
  "kernelspec": {
   "display_name": "Python 3.10.4 64-bit",
   "language": "python",
   "name": "python3"
  },
  "language_info": {
   "codemirror_mode": {
    "name": "ipython",
    "version": 3
   },
   "file_extension": ".py",
   "mimetype": "text/x-python",
   "name": "python",
   "nbconvert_exporter": "python",
   "pygments_lexer": "ipython3",
   "version": "3.10.4"
  },
  "orig_nbformat": 4,
  "vscode": {
   "interpreter": {
    "hash": "97a318a1c10ea3cad32b5f740e8bef65bce9a717407c951d39899fa160feabd9"
   }
  }
 },
 "nbformat": 4,
 "nbformat_minor": 2
}
