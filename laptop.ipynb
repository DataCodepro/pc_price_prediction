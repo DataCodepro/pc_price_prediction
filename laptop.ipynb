{
 "cells": [
  {
   "cell_type": "code",
   "execution_count": 29,
   "metadata": {},
   "outputs": [
    {
     "data": {
      "text/html": [
       "<div>\n",
       "<style scoped>\n",
       "    .dataframe tbody tr th:only-of-type {\n",
       "        vertical-align: middle;\n",
       "    }\n",
       "\n",
       "    .dataframe tbody tr th {\n",
       "        vertical-align: top;\n",
       "    }\n",
       "\n",
       "    .dataframe thead th {\n",
       "        text-align: right;\n",
       "    }\n",
       "</style>\n",
       "<table border=\"1\" class=\"dataframe\">\n",
       "  <thead>\n",
       "    <tr style=\"text-align: right;\">\n",
       "      <th></th>\n",
       "      <th>model</th>\n",
       "      <th>model.1</th>\n",
       "      <th>drive_size</th>\n",
       "      <th>ram</th>\n",
       "      <th>processor</th>\n",
       "      <th>gen</th>\n",
       "      <th>processor_speed</th>\n",
       "      <th>screen_size</th>\n",
       "      <th>screen_r_width</th>\n",
       "      <th>screen_r_height</th>\n",
       "      <th>touch_screen</th>\n",
       "      <th>keyboard_light</th>\n",
       "      <th>hdmi</th>\n",
       "      <th>price</th>\n",
       "    </tr>\n",
       "  </thead>\n",
       "  <tbody>\n",
       "    <tr>\n",
       "      <th>0</th>\n",
       "      <td>EliteBook 2560p</td>\n",
       "      <td>hdd</td>\n",
       "      <td>320</td>\n",
       "      <td>4</td>\n",
       "      <td>i7</td>\n",
       "      <td>2.0</td>\n",
       "      <td>2.7</td>\n",
       "      <td>12.5</td>\n",
       "      <td>1366</td>\n",
       "      <td>768</td>\n",
       "      <td>0</td>\n",
       "      <td>0</td>\n",
       "      <td>0</td>\n",
       "      <td>100000</td>\n",
       "    </tr>\n",
       "    <tr>\n",
       "      <th>1</th>\n",
       "      <td>Razer Blade 15</td>\n",
       "      <td>ssd</td>\n",
       "      <td>1000</td>\n",
       "      <td>16</td>\n",
       "      <td>i7</td>\n",
       "      <td>8.0</td>\n",
       "      <td>2.6</td>\n",
       "      <td>15.6</td>\n",
       "      <td>1920</td>\n",
       "      <td>1080</td>\n",
       "      <td>0</td>\n",
       "      <td>1</td>\n",
       "      <td>1</td>\n",
       "      <td>678000</td>\n",
       "    </tr>\n",
       "    <tr>\n",
       "      <th>2</th>\n",
       "      <td>Acer Nitro AN515-55</td>\n",
       "      <td>ssd</td>\n",
       "      <td>256</td>\n",
       "      <td>8</td>\n",
       "      <td>i5</td>\n",
       "      <td>10.0</td>\n",
       "      <td>2.5</td>\n",
       "      <td>15.0</td>\n",
       "      <td>1920</td>\n",
       "      <td>1080</td>\n",
       "      <td>0</td>\n",
       "      <td>1</td>\n",
       "      <td>1</td>\n",
       "      <td>485000</td>\n",
       "    </tr>\n",
       "    <tr>\n",
       "      <th>3</th>\n",
       "      <td>HP Folio 9480m</td>\n",
       "      <td>hdd</td>\n",
       "      <td>500</td>\n",
       "      <td>8</td>\n",
       "      <td>i5</td>\n",
       "      <td>4.0</td>\n",
       "      <td>2.6</td>\n",
       "      <td>14.0</td>\n",
       "      <td>1600</td>\n",
       "      <td>900</td>\n",
       "      <td>0</td>\n",
       "      <td>1</td>\n",
       "      <td>0</td>\n",
       "      <td>155000</td>\n",
       "    </tr>\n",
       "    <tr>\n",
       "      <th>4</th>\n",
       "      <td>HP EliteBook 8440p</td>\n",
       "      <td>hdd</td>\n",
       "      <td>320</td>\n",
       "      <td>4</td>\n",
       "      <td>i5</td>\n",
       "      <td>1.0</td>\n",
       "      <td>2.6</td>\n",
       "      <td>14.0</td>\n",
       "      <td>1366</td>\n",
       "      <td>768</td>\n",
       "      <td>0</td>\n",
       "      <td>0</td>\n",
       "      <td>0</td>\n",
       "      <td>85000</td>\n",
       "    </tr>\n",
       "  </tbody>\n",
       "</table>\n",
       "</div>"
      ],
      "text/plain": [
       "                 model model.1  drive_size  ram processor   gen  \\\n",
       "0      EliteBook 2560p     hdd         320    4        i7   2.0   \n",
       "1       Razer Blade 15     ssd        1000   16        i7   8.0   \n",
       "2  Acer Nitro AN515-55     ssd         256    8        i5  10.0   \n",
       "3       HP Folio 9480m     hdd         500    8        i5   4.0   \n",
       "4   HP EliteBook 8440p     hdd         320    4        i5   1.0   \n",
       "\n",
       "   processor_speed  screen_size  screen_r_width  screen_r_height  \\\n",
       "0              2.7         12.5            1366              768   \n",
       "1              2.6         15.6            1920             1080   \n",
       "2              2.5         15.0            1920             1080   \n",
       "3              2.6         14.0            1600              900   \n",
       "4              2.6         14.0            1366              768   \n",
       "\n",
       "   touch_screen  keyboard_light  hdmi   price  \n",
       "0             0               0     0  100000  \n",
       "1             0               1     1  678000  \n",
       "2             0               1     1  485000  \n",
       "3             0               1     0  155000  \n",
       "4             0               0     0   85000  "
      ]
     },
     "execution_count": 29,
     "metadata": {},
     "output_type": "execute_result"
    }
   ],
   "source": [
    "import pandas as pd\n",
    "import matplotlib.pyplot as plt\n",
    "df = pd.read_csv('pc_dataset.csv')\n",
    "df.head()"
   ]
  },
  {
   "cell_type": "code",
   "execution_count": 30,
   "metadata": {},
   "outputs": [
    {
     "data": {
      "text/plain": [
       "model              0\n",
       "model.1            0\n",
       "drive_size         0\n",
       "ram                0\n",
       "processor          0\n",
       "gen                0\n",
       "processor_speed    0\n",
       "screen_size        0\n",
       "screen_r_width     0\n",
       "screen_r_height    0\n",
       "touch_screen       0\n",
       "keyboard_light     0\n",
       "hdmi               0\n",
       "price              0\n",
       "dtype: int64"
      ]
     },
     "execution_count": 30,
     "metadata": {},
     "output_type": "execute_result"
    }
   ],
   "source": [
    "df.isnull().sum()"
   ]
  },
  {
   "cell_type": "code",
   "execution_count": 31,
   "metadata": {},
   "outputs": [
    {
     "data": {
      "text/plain": [
       "(201, 14)"
      ]
     },
     "execution_count": 31,
     "metadata": {},
     "output_type": "execute_result"
    }
   ],
   "source": [
    "df.shape"
   ]
  },
  {
   "cell_type": "code",
   "execution_count": 32,
   "metadata": {},
   "outputs": [
    {
     "name": "stdout",
     "output_type": "stream",
     "text": [
      "<class 'pandas.core.frame.DataFrame'>\n",
      "RangeIndex: 201 entries, 0 to 200\n",
      "Data columns (total 14 columns):\n",
      " #   Column           Non-Null Count  Dtype  \n",
      "---  ------           --------------  -----  \n",
      " 0   model            201 non-null    object \n",
      " 1   model.1          201 non-null    object \n",
      " 2   drive_size       201 non-null    int64  \n",
      " 3   ram              201 non-null    int64  \n",
      " 4   processor        201 non-null    object \n",
      " 5   gen              201 non-null    float64\n",
      " 6   processor_speed  201 non-null    float64\n",
      " 7   screen_size      201 non-null    float64\n",
      " 8   screen_r_width   201 non-null    int64  \n",
      " 9   screen_r_height  201 non-null    int64  \n",
      " 10  touch_screen     201 non-null    int64  \n",
      " 11  keyboard_light   201 non-null    int64  \n",
      " 12  hdmi             201 non-null    int64  \n",
      " 13  price            201 non-null    int64  \n",
      "dtypes: float64(3), int64(8), object(3)\n",
      "memory usage: 22.1+ KB\n"
     ]
    }
   ],
   "source": [
    "df.info()"
   ]
  },
  {
   "cell_type": "code",
   "execution_count": 76,
   "metadata": {},
   "outputs": [
    {
     "name": "stdout",
     "output_type": "stream",
     "text": [
      "[0 1]\n"
     ]
    }
   ],
   "source": [
    "print(df['hdmi'].unique())"
   ]
  },
  {
   "cell_type": "code",
   "execution_count": 34,
   "metadata": {},
   "outputs": [
    {
     "name": "stdout",
     "output_type": "stream",
     "text": [
      "['hdd' 'ssd']\n",
      "['i7' 'i5' 'Ryzen 5' 'i3' 'Xeon' 'Ryzen 7' 'atom' 'A6' 'celeron' '2 duo'\n",
      " 'Ryzen 9' 'pentium' 'E1']\n"
     ]
    }
   ],
   "source": [
    "print(df['model.1'].unique())\n",
    "print(df['processor'].unique())\n"
   ]
  },
  {
   "cell_type": "code",
   "execution_count": 35,
   "metadata": {},
   "outputs": [
    {
     "name": "stdout",
     "output_type": "stream",
     "text": [
      "['EliteBook 2560p' 'Razer Blade 15' 'Acer Nitro AN515-55' 'HP Folio 9480m'\n",
      " 'HP EliteBook 8440p' 'ASUS ZenBook(UX325EA)' 'HP Pavilion ' 'HP Zbook G3'\n",
      " 'Hp Zbook 15u G6' 'HP 840 G3' 'DELL XPS 15 9560'\n",
      " 'Acer Predator helios 300' 'HP EliteBook X360 1030 G2' 'Lenovo Region 5'\n",
      " 'SAMSUNG 730QCJ' 'DELL XPS 13(9360)' 'HP Probook 445 G6'\n",
      " 'HP Pro X2 612 G1' 'ASUS G551 JM' 'LENOVO YOGA' 'LENOVO THINKPAD T490'\n",
      " 'DELL Precision 7530' 'Hp Laptop 15' 'LENOVO Thinkpad E15'\n",
      " 'Dell Latitude E3380' 'HP Elite 1012' 'Dell Inspiron 7415' 'ACER NITRO 5'\n",
      " 'DELL PRECISION 7530' 'LENOVO THINKPAD P73' 'DELL ALIENWARE M15 R2'\n",
      " 'HP ELITE BOOK X360 1012 G1' 'HP ELITE BOOK 1012 G2' 'HP PRO BOOK 450 G3'\n",
      " 'HP Envy x360' 'Dell Inspiron 5593' 'Hp Elitebook 850 G6'\n",
      " 'SONT PCG VPCC W21FX' 'HP ELITEBOOK 650 G5' 'Dell Latitude 5400'\n",
      " 'Lenovo Thinkpad T420i' 'HP Omen 16' 'LENOVE G470'\n",
      " 'Hp Zbook Firefly 15 G7 ' 'SONY PGV VPCEB29FJ' 'TRANSFORMATION BOOK '\n",
      " 'MACBOOK PRO' 'MSi Katana Gf66' 'HP PROBOOK 645' 'Dell G15 5510' 'HP 215'\n",
      " 'ULTRA SLIM HP 14' 'DELL INSPIRON 15 ' 'LENOVO X1' 'PAVILION g7-1150us'\n",
      " 'DELL STUDIO 1555' 'Lenovo Thinkbood 15 G2' 'LENOVO THINKPAD T440P'\n",
      " 'Microsoft Surface Pro 6' 'DELL LATTITUDE E6410' 'LENOVO IDEAPAD 151WL'\n",
      " 'HP laptop 14' 'Dell latitude 3500' 'Dell Latitude 7480' 'HP Pavilion 15'\n",
      " 'HP Elitebook 830 G6' 'HP Elitebook 745 G5' 'Dell G15 5511'\n",
      " 'Lenovo Thinkpad T14s' 'MACBOOK PRO 2017' 'HP Elitebook 1030 G2'\n",
      " 'HP probook 11 G2' 'LENOVO YOGA 710' 'HP Notebook 15'\n",
      " 'HP Elitebook 450 G5' 'Dell Inspiron 5567' 'Lenovo Ideapad 5'\n",
      " 'Dell Inspiron 5579' 'SAMSUNG A5A5' 'MSi Pulse GL66 11UCK'\n",
      " 'Lenovo Ideapad S340' 'Dell Inspiron 7391`' 'Dell Latitude 7400'\n",
      " 'ASUS GL502VMK' 'MSI Creator 15 A10SET' 'Asus Vivo book17'\n",
      " 'Dell Vostro 5490' 'Asus Notebook' 'Lenovo Thinkpad P52s'\n",
      " 'Lenovo Thinkpad T580' 'Dell XPS 15-7590' 'Acer Aspire A515-54'\n",
      " 'Lenovo Ideapad Flex 4' 'Apple MacBook Pro' 'Dell G5' 'Acer Nitro 5'\n",
      " 'MacBook Air' 'HP Elitebook 840 G3' 'HP Probook 640 G2' 'HP Spectre'\n",
      " 'ASUS ROG ZEPHYRUS G14 GA401' 'HP ENVY 13' 'Asus ZENbook Duo'\n",
      " 'Lenovo Yoga C930 131KB' 'Lenovo Flex5-141TL05' 'DynaBook T451134EBS'\n",
      " 'Lenovo Ideapad Flex 5' 'Envy x360' 'Thinkpad P1 Gen2'\n",
      " 'Lenovo Thinkpad P1 Gen3' 'HP Probook 640 GB'\n",
      " 'Dell Latitude 7390 Ultrabook' 'Dell Latitude E5490'\n",
      " 'MSI GF63 Thin 10SCXR' 'Dell Latitude 5420' 'Asus Vivobook X515DA'\n",
      " 'Dell Latitude 5501' 'Dell Inspiron 15 5593' 'ASPIRE 4733z' 'VOSTRO 3500'\n",
      " '15- f004dx' 'PROBOOK MT20 ' 'Ideapad G560' 'Satellite A665 series'\n",
      " 'Lenovo Thinkpad T15 Gen2' 'HP Elitebook folio 1030 G3'\n",
      " 'Dell Inspiron 15 7577' 'Dell Inspiron 13 5310' 'HP Elite-X2 '\n",
      " 'HP Stream 14 Notebook' 'HP Envy 13t' 'Lenovo IdeaPad L340-151RH'\n",
      " 'Acer Aspire E15' 'Lenovo Thinkpad T480s' 'HP Pavilion X360'\n",
      " 'HP 15 Notebook' 'Lenovo Thinkbook 14p' 'HP Elitebook folio 9470m'\n",
      " 'ASUS ROG GL753VD' 'Asus Zenbook Flip 14' 'HP Probook 440 G3'\n",
      " 'DELL XPS 15 9550' 'MSI GL65 9SEK' 'HP Elitebook Folio 1040 G3'\n",
      " 'Dell Precision 5530' 'Microsoft Surface Laptop 3'\n",
      " 'Apple Macbook pro  Retina' 'HP Probook 450 G8' 'Dell Latitude e7240'\n",
      " 'Razer Blade 17' 'Lenovo Yoga 7i' 'MSI Prestige 15' 'Lenovo Legion 5'\n",
      " 'Dll Precision 5540' 'HP Spectre x360' 'DELL XPS 13 9365 x360' 'HP 14 '\n",
      " 'HP Elitebook Folio 1040 G6' 'DELL XPS 13 9380' 'Dell Inspiron 15 7000'\n",
      " 'Razer Blade Stealth 13' 'HP Probook 450 G6' 'Dell Inspiron 15 5515'\n",
      " 'Lenovo Yoga C740-15IML' 'Dell Precision 5520' 'Dell XPS 15 9570'\n",
      " 'Dell Inspiron 7706' 'Microsoft Surface Pro 5' 'Asus ROG Srtix GL503'\n",
      " 'Lenovo Yoga Slim 7-141L05' 'Dell Latitude 7410' 'HP Probook 640 G8'\n",
      " 'Lenovo Thinkpad T480' 'Dell Latitude 7389 x360' 'Lenovo Thinkpad E590'\n",
      " 'HP Probook 440 G7' 'Samsung NP750xda' 'Eluktronics Mtrix RP-15'\n",
      " 'HP Elitebook 830 G5' 'Dell Inspiron 15 5501' 'HP Omen 15' 'HP Envy 13'\n",
      " 'HP Probook 440 G8' 'Dell LLatitude 5580' 'Lenovo Yoga C340 x360'\n",
      " 'HP Pavilion 14 ' 'DELL G5 5505 SE' 'HP Spectre 15 x360'\n",
      " 'HP Spectre 13 x360' 'HP Elitebook 840 G8' 'HP Probook G6'\n",
      " 'HP Probook X360 11 G6 EE' 'Microsoft Surface Book 3'\n",
      " 'Dell Latitude E7450' 'HP Elitebook 820 G3' 'Asus Zephyrus G(GU502DA)'\n",
      " 'Dell Alienware 17 R4' 'HP Elite 1040 G3' 'HP Elite 1030 G3']\n"
     ]
    }
   ],
   "source": [
    "print(df['model'].unique())"
   ]
  },
  {
   "cell_type": "code",
   "execution_count": 36,
   "metadata": {},
   "outputs": [
    {
     "data": {
      "text/plain": [
       "array([ 71, 186,  11, 103,  86,   7, 109, 130, 135,  77,  33,  12,  87,\n",
       "       154, 189,  31, 117, 113,   3, 145, 142,  27, 134, 143,  59,  82,\n",
       "        48,   1,  26, 140,  22,  79,  78, 107, 102,  46, 133, 191,  80,\n",
       "        51, 162, 106, 138, 136, 192, 195, 171, 177, 108,  35,  76, 197,\n",
       "        24, 144, 184,  28, 155, 141, 183,  25, 139, 131,  68,  58, 111,\n",
       "        93,  90,  36, 160, 172,  88, 132, 146, 104,  89,  44, 149,  45,\n",
       "       190, 178, 152,  47,  56,   4, 173,  17,  65,  15, 159, 165,  67,\n",
       "         8, 150,  13,  37,  10, 179,  94, 120, 125,   6,  81,  19, 169,\n",
       "       147,  70, 151,  73, 196, 158, 122,  55,  60, 174,  52,  18,  53,\n",
       "        41,   2, 198,   0, 185, 137, 194, 161,  98,  43,  38,  85, 129,\n",
       "       101, 148,   9, 164, 112,  75, 156,  99,   5,  20, 114,  32, 175,\n",
       "        96,  64, 181,  14, 119,  62, 187, 166, 176, 153,  69, 128,  29,\n",
       "        74,  97,  30,  42, 188, 118,  40, 168,  63,  66,  49, 182,  16,\n",
       "       170,  57, 121, 163,  54, 157, 115, 193,  72,  92,  39, 105, 100,\n",
       "       116,  50, 167, 110,  23, 127, 126,  95, 123, 124, 180,  61,  91,\n",
       "        21,  34,  84,  83])"
      ]
     },
     "execution_count": 36,
     "metadata": {},
     "output_type": "execute_result"
    }
   ],
   "source": [
    "from sklearn.preprocessing import LabelEncoder\n",
    "le_model = LabelEncoder()\n",
    "df['model'] = le_model.fit_transform(df['model'])\n",
    "df[\"model\"].unique()"
   ]
  },
  {
   "cell_type": "code",
   "execution_count": 37,
   "metadata": {},
   "outputs": [
    {
     "data": {
      "text/plain": [
       "array([0, 1])"
      ]
     },
     "execution_count": 37,
     "metadata": {},
     "output_type": "execute_result"
    }
   ],
   "source": [
    "le_model_1 = LabelEncoder()\n",
    "df['model.1'] = le_model_1.fit_transform(df['model.1'])\n",
    "df[\"model.1\"].unique()"
   ]
  },
  {
   "cell_type": "code",
   "execution_count": 38,
   "metadata": {},
   "outputs": [
    {
     "data": {
      "text/plain": [
       "array([11, 10,  3,  9,  6,  4,  7,  1,  8,  0,  5, 12,  2])"
      ]
     },
     "execution_count": 38,
     "metadata": {},
     "output_type": "execute_result"
    }
   ],
   "source": [
    "le_processor = LabelEncoder()\n",
    "df['processor'] = le_processor.fit_transform(df['processor'])\n",
    "df[\"processor\"].unique()"
   ]
  },
  {
   "cell_type": "code",
   "execution_count": 39,
   "metadata": {},
   "outputs": [],
   "source": [
    "X = df.drop(\"price\", axis=1)\n",
    "y = df[\"price\"]"
   ]
  },
  {
   "cell_type": "code",
   "execution_count": 40,
   "metadata": {},
   "outputs": [
    {
     "data": {
      "text/html": [
       "<style>#sk-container-id-5 {color: black;background-color: white;}#sk-container-id-5 pre{padding: 0;}#sk-container-id-5 div.sk-toggleable {background-color: white;}#sk-container-id-5 label.sk-toggleable__label {cursor: pointer;display: block;width: 100%;margin-bottom: 0;padding: 0.3em;box-sizing: border-box;text-align: center;}#sk-container-id-5 label.sk-toggleable__label-arrow:before {content: \"▸\";float: left;margin-right: 0.25em;color: #696969;}#sk-container-id-5 label.sk-toggleable__label-arrow:hover:before {color: black;}#sk-container-id-5 div.sk-estimator:hover label.sk-toggleable__label-arrow:before {color: black;}#sk-container-id-5 div.sk-toggleable__content {max-height: 0;max-width: 0;overflow: hidden;text-align: left;background-color: #f0f8ff;}#sk-container-id-5 div.sk-toggleable__content pre {margin: 0.2em;color: black;border-radius: 0.25em;background-color: #f0f8ff;}#sk-container-id-5 input.sk-toggleable__control:checked~div.sk-toggleable__content {max-height: 200px;max-width: 100%;overflow: auto;}#sk-container-id-5 input.sk-toggleable__control:checked~label.sk-toggleable__label-arrow:before {content: \"▾\";}#sk-container-id-5 div.sk-estimator input.sk-toggleable__control:checked~label.sk-toggleable__label {background-color: #d4ebff;}#sk-container-id-5 div.sk-label input.sk-toggleable__control:checked~label.sk-toggleable__label {background-color: #d4ebff;}#sk-container-id-5 input.sk-hidden--visually {border: 0;clip: rect(1px 1px 1px 1px);clip: rect(1px, 1px, 1px, 1px);height: 1px;margin: -1px;overflow: hidden;padding: 0;position: absolute;width: 1px;}#sk-container-id-5 div.sk-estimator {font-family: monospace;background-color: #f0f8ff;border: 1px dotted black;border-radius: 0.25em;box-sizing: border-box;margin-bottom: 0.5em;}#sk-container-id-5 div.sk-estimator:hover {background-color: #d4ebff;}#sk-container-id-5 div.sk-parallel-item::after {content: \"\";width: 100%;border-bottom: 1px solid gray;flex-grow: 1;}#sk-container-id-5 div.sk-label:hover label.sk-toggleable__label {background-color: #d4ebff;}#sk-container-id-5 div.sk-serial::before {content: \"\";position: absolute;border-left: 1px solid gray;box-sizing: border-box;top: 0;bottom: 0;left: 50%;z-index: 0;}#sk-container-id-5 div.sk-serial {display: flex;flex-direction: column;align-items: center;background-color: white;padding-right: 0.2em;padding-left: 0.2em;position: relative;}#sk-container-id-5 div.sk-item {position: relative;z-index: 1;}#sk-container-id-5 div.sk-parallel {display: flex;align-items: stretch;justify-content: center;background-color: white;position: relative;}#sk-container-id-5 div.sk-item::before, #sk-container-id-5 div.sk-parallel-item::before {content: \"\";position: absolute;border-left: 1px solid gray;box-sizing: border-box;top: 0;bottom: 0;left: 50%;z-index: -1;}#sk-container-id-5 div.sk-parallel-item {display: flex;flex-direction: column;z-index: 1;position: relative;background-color: white;}#sk-container-id-5 div.sk-parallel-item:first-child::after {align-self: flex-end;width: 50%;}#sk-container-id-5 div.sk-parallel-item:last-child::after {align-self: flex-start;width: 50%;}#sk-container-id-5 div.sk-parallel-item:only-child::after {width: 0;}#sk-container-id-5 div.sk-dashed-wrapped {border: 1px dashed gray;margin: 0 0.4em 0.5em 0.4em;box-sizing: border-box;padding-bottom: 0.4em;background-color: white;}#sk-container-id-5 div.sk-label label {font-family: monospace;font-weight: bold;display: inline-block;line-height: 1.2em;}#sk-container-id-5 div.sk-label-container {text-align: center;}#sk-container-id-5 div.sk-container {/* jupyter's `normalize.less` sets `[hidden] { display: none; }` but bootstrap.min.css set `[hidden] { display: none !important; }` so we also need the `!important` here to be able to override the default hidden behavior on the sphinx rendered scikit-learn.org. See: https://github.com/scikit-learn/scikit-learn/issues/21755 */display: inline-block !important;position: relative;}#sk-container-id-5 div.sk-text-repr-fallback {display: none;}</style><div id=\"sk-container-id-5\" class=\"sk-top-container\"><div class=\"sk-text-repr-fallback\"><pre>LinearRegression()</pre><b>In a Jupyter environment, please rerun this cell to show the HTML representation or trust the notebook. <br />On GitHub, the HTML representation is unable to render, please try loading this page with nbviewer.org.</b></div><div class=\"sk-container\" hidden><div class=\"sk-item\"><div class=\"sk-estimator sk-toggleable\"><input class=\"sk-toggleable__control sk-hidden--visually\" id=\"sk-estimator-id-7\" type=\"checkbox\" checked><label for=\"sk-estimator-id-7\" class=\"sk-toggleable__label sk-toggleable__label-arrow\">LinearRegression</label><div class=\"sk-toggleable__content\"><pre>LinearRegression()</pre></div></div></div></div></div>"
      ],
      "text/plain": [
       "LinearRegression()"
      ]
     },
     "execution_count": 40,
     "metadata": {},
     "output_type": "execute_result"
    }
   ],
   "source": [
    "from sklearn.linear_model import LinearRegression\n",
    "linear_reg = LinearRegression()\n",
    "linear_reg.fit(X, y.values)"
   ]
  },
  {
   "cell_type": "code",
   "execution_count": 41,
   "metadata": {},
   "outputs": [],
   "source": [
    "y_pred = linear_reg.predict(X)"
   ]
  },
  {
   "cell_type": "code",
   "execution_count": 42,
   "metadata": {},
   "outputs": [],
   "source": [
    "from sklearn.metrics import mean_squared_error, mean_absolute_error,mean_absolute_percentage_error,r2_score\n",
    "import numpy as np\n",
    "error = np.sqrt(mean_squared_error(y, y_pred))\n",
    "erro2 = mean_absolute_percentage_error(y,y_pred)\n",
    "acuuracy = r2_score(y,y_pred)"
   ]
  },
  {
   "cell_type": "code",
   "execution_count": 43,
   "metadata": {},
   "outputs": [
    {
     "name": "stdout",
     "output_type": "stream",
     "text": [
      "0.6540514981844385\n",
      "97942.55128556512\n",
      "0.25209268694223225\n"
     ]
    }
   ],
   "source": [
    "print(acuuracy)\n",
    "print(error)\n",
    "print(erro2)"
   ]
  },
  {
   "cell_type": "code",
   "execution_count": 44,
   "metadata": {},
   "outputs": [
    {
     "data": {
      "text/html": [
       "<style>#sk-container-id-6 {color: black;background-color: white;}#sk-container-id-6 pre{padding: 0;}#sk-container-id-6 div.sk-toggleable {background-color: white;}#sk-container-id-6 label.sk-toggleable__label {cursor: pointer;display: block;width: 100%;margin-bottom: 0;padding: 0.3em;box-sizing: border-box;text-align: center;}#sk-container-id-6 label.sk-toggleable__label-arrow:before {content: \"▸\";float: left;margin-right: 0.25em;color: #696969;}#sk-container-id-6 label.sk-toggleable__label-arrow:hover:before {color: black;}#sk-container-id-6 div.sk-estimator:hover label.sk-toggleable__label-arrow:before {color: black;}#sk-container-id-6 div.sk-toggleable__content {max-height: 0;max-width: 0;overflow: hidden;text-align: left;background-color: #f0f8ff;}#sk-container-id-6 div.sk-toggleable__content pre {margin: 0.2em;color: black;border-radius: 0.25em;background-color: #f0f8ff;}#sk-container-id-6 input.sk-toggleable__control:checked~div.sk-toggleable__content {max-height: 200px;max-width: 100%;overflow: auto;}#sk-container-id-6 input.sk-toggleable__control:checked~label.sk-toggleable__label-arrow:before {content: \"▾\";}#sk-container-id-6 div.sk-estimator input.sk-toggleable__control:checked~label.sk-toggleable__label {background-color: #d4ebff;}#sk-container-id-6 div.sk-label input.sk-toggleable__control:checked~label.sk-toggleable__label {background-color: #d4ebff;}#sk-container-id-6 input.sk-hidden--visually {border: 0;clip: rect(1px 1px 1px 1px);clip: rect(1px, 1px, 1px, 1px);height: 1px;margin: -1px;overflow: hidden;padding: 0;position: absolute;width: 1px;}#sk-container-id-6 div.sk-estimator {font-family: monospace;background-color: #f0f8ff;border: 1px dotted black;border-radius: 0.25em;box-sizing: border-box;margin-bottom: 0.5em;}#sk-container-id-6 div.sk-estimator:hover {background-color: #d4ebff;}#sk-container-id-6 div.sk-parallel-item::after {content: \"\";width: 100%;border-bottom: 1px solid gray;flex-grow: 1;}#sk-container-id-6 div.sk-label:hover label.sk-toggleable__label {background-color: #d4ebff;}#sk-container-id-6 div.sk-serial::before {content: \"\";position: absolute;border-left: 1px solid gray;box-sizing: border-box;top: 0;bottom: 0;left: 50%;z-index: 0;}#sk-container-id-6 div.sk-serial {display: flex;flex-direction: column;align-items: center;background-color: white;padding-right: 0.2em;padding-left: 0.2em;position: relative;}#sk-container-id-6 div.sk-item {position: relative;z-index: 1;}#sk-container-id-6 div.sk-parallel {display: flex;align-items: stretch;justify-content: center;background-color: white;position: relative;}#sk-container-id-6 div.sk-item::before, #sk-container-id-6 div.sk-parallel-item::before {content: \"\";position: absolute;border-left: 1px solid gray;box-sizing: border-box;top: 0;bottom: 0;left: 50%;z-index: -1;}#sk-container-id-6 div.sk-parallel-item {display: flex;flex-direction: column;z-index: 1;position: relative;background-color: white;}#sk-container-id-6 div.sk-parallel-item:first-child::after {align-self: flex-end;width: 50%;}#sk-container-id-6 div.sk-parallel-item:last-child::after {align-self: flex-start;width: 50%;}#sk-container-id-6 div.sk-parallel-item:only-child::after {width: 0;}#sk-container-id-6 div.sk-dashed-wrapped {border: 1px dashed gray;margin: 0 0.4em 0.5em 0.4em;box-sizing: border-box;padding-bottom: 0.4em;background-color: white;}#sk-container-id-6 div.sk-label label {font-family: monospace;font-weight: bold;display: inline-block;line-height: 1.2em;}#sk-container-id-6 div.sk-label-container {text-align: center;}#sk-container-id-6 div.sk-container {/* jupyter's `normalize.less` sets `[hidden] { display: none; }` but bootstrap.min.css set `[hidden] { display: none !important; }` so we also need the `!important` here to be able to override the default hidden behavior on the sphinx rendered scikit-learn.org. See: https://github.com/scikit-learn/scikit-learn/issues/21755 */display: inline-block !important;position: relative;}#sk-container-id-6 div.sk-text-repr-fallback {display: none;}</style><div id=\"sk-container-id-6\" class=\"sk-top-container\"><div class=\"sk-text-repr-fallback\"><pre>DecisionTreeRegressor(random_state=0)</pre><b>In a Jupyter environment, please rerun this cell to show the HTML representation or trust the notebook. <br />On GitHub, the HTML representation is unable to render, please try loading this page with nbviewer.org.</b></div><div class=\"sk-container\" hidden><div class=\"sk-item\"><div class=\"sk-estimator sk-toggleable\"><input class=\"sk-toggleable__control sk-hidden--visually\" id=\"sk-estimator-id-8\" type=\"checkbox\" checked><label for=\"sk-estimator-id-8\" class=\"sk-toggleable__label sk-toggleable__label-arrow\">DecisionTreeRegressor</label><div class=\"sk-toggleable__content\"><pre>DecisionTreeRegressor(random_state=0)</pre></div></div></div></div></div>"
      ],
      "text/plain": [
       "DecisionTreeRegressor(random_state=0)"
      ]
     },
     "execution_count": 44,
     "metadata": {},
     "output_type": "execute_result"
    }
   ],
   "source": [
    "from sklearn.tree import DecisionTreeRegressor\n",
    "dec_tree_reg = DecisionTreeRegressor(random_state=0)\n",
    "dec_tree_reg.fit(X, y.values)"
   ]
  },
  {
   "cell_type": "code",
   "execution_count": 45,
   "metadata": {},
   "outputs": [],
   "source": [
    "y_pred = dec_tree_reg.predict(X)"
   ]
  },
  {
   "cell_type": "code",
   "execution_count": 46,
   "metadata": {},
   "outputs": [],
   "source": [
    "error2 = np.sqrt(mean_squared_error(y, y_pred))\n",
    "erro22 = mean_absolute_percentage_error(y,y_pred)\n",
    "acuuracy2 = r2_score(y,y_pred)"
   ]
  },
  {
   "cell_type": "code",
   "execution_count": 47,
   "metadata": {},
   "outputs": [
    {
     "name": "stdout",
     "output_type": "stream",
     "text": [
      "1.0\n",
      "0.0\n",
      "0.0\n"
     ]
    }
   ],
   "source": [
    "print(acuuracy2)\n",
    "print(error2)\n",
    "print(erro22)"
   ]
  },
  {
   "cell_type": "code",
   "execution_count": 48,
   "metadata": {},
   "outputs": [
    {
     "data": {
      "text/html": [
       "<style>#sk-container-id-7 {color: black;background-color: white;}#sk-container-id-7 pre{padding: 0;}#sk-container-id-7 div.sk-toggleable {background-color: white;}#sk-container-id-7 label.sk-toggleable__label {cursor: pointer;display: block;width: 100%;margin-bottom: 0;padding: 0.3em;box-sizing: border-box;text-align: center;}#sk-container-id-7 label.sk-toggleable__label-arrow:before {content: \"▸\";float: left;margin-right: 0.25em;color: #696969;}#sk-container-id-7 label.sk-toggleable__label-arrow:hover:before {color: black;}#sk-container-id-7 div.sk-estimator:hover label.sk-toggleable__label-arrow:before {color: black;}#sk-container-id-7 div.sk-toggleable__content {max-height: 0;max-width: 0;overflow: hidden;text-align: left;background-color: #f0f8ff;}#sk-container-id-7 div.sk-toggleable__content pre {margin: 0.2em;color: black;border-radius: 0.25em;background-color: #f0f8ff;}#sk-container-id-7 input.sk-toggleable__control:checked~div.sk-toggleable__content {max-height: 200px;max-width: 100%;overflow: auto;}#sk-container-id-7 input.sk-toggleable__control:checked~label.sk-toggleable__label-arrow:before {content: \"▾\";}#sk-container-id-7 div.sk-estimator input.sk-toggleable__control:checked~label.sk-toggleable__label {background-color: #d4ebff;}#sk-container-id-7 div.sk-label input.sk-toggleable__control:checked~label.sk-toggleable__label {background-color: #d4ebff;}#sk-container-id-7 input.sk-hidden--visually {border: 0;clip: rect(1px 1px 1px 1px);clip: rect(1px, 1px, 1px, 1px);height: 1px;margin: -1px;overflow: hidden;padding: 0;position: absolute;width: 1px;}#sk-container-id-7 div.sk-estimator {font-family: monospace;background-color: #f0f8ff;border: 1px dotted black;border-radius: 0.25em;box-sizing: border-box;margin-bottom: 0.5em;}#sk-container-id-7 div.sk-estimator:hover {background-color: #d4ebff;}#sk-container-id-7 div.sk-parallel-item::after {content: \"\";width: 100%;border-bottom: 1px solid gray;flex-grow: 1;}#sk-container-id-7 div.sk-label:hover label.sk-toggleable__label {background-color: #d4ebff;}#sk-container-id-7 div.sk-serial::before {content: \"\";position: absolute;border-left: 1px solid gray;box-sizing: border-box;top: 0;bottom: 0;left: 50%;z-index: 0;}#sk-container-id-7 div.sk-serial {display: flex;flex-direction: column;align-items: center;background-color: white;padding-right: 0.2em;padding-left: 0.2em;position: relative;}#sk-container-id-7 div.sk-item {position: relative;z-index: 1;}#sk-container-id-7 div.sk-parallel {display: flex;align-items: stretch;justify-content: center;background-color: white;position: relative;}#sk-container-id-7 div.sk-item::before, #sk-container-id-7 div.sk-parallel-item::before {content: \"\";position: absolute;border-left: 1px solid gray;box-sizing: border-box;top: 0;bottom: 0;left: 50%;z-index: -1;}#sk-container-id-7 div.sk-parallel-item {display: flex;flex-direction: column;z-index: 1;position: relative;background-color: white;}#sk-container-id-7 div.sk-parallel-item:first-child::after {align-self: flex-end;width: 50%;}#sk-container-id-7 div.sk-parallel-item:last-child::after {align-self: flex-start;width: 50%;}#sk-container-id-7 div.sk-parallel-item:only-child::after {width: 0;}#sk-container-id-7 div.sk-dashed-wrapped {border: 1px dashed gray;margin: 0 0.4em 0.5em 0.4em;box-sizing: border-box;padding-bottom: 0.4em;background-color: white;}#sk-container-id-7 div.sk-label label {font-family: monospace;font-weight: bold;display: inline-block;line-height: 1.2em;}#sk-container-id-7 div.sk-label-container {text-align: center;}#sk-container-id-7 div.sk-container {/* jupyter's `normalize.less` sets `[hidden] { display: none; }` but bootstrap.min.css set `[hidden] { display: none !important; }` so we also need the `!important` here to be able to override the default hidden behavior on the sphinx rendered scikit-learn.org. See: https://github.com/scikit-learn/scikit-learn/issues/21755 */display: inline-block !important;position: relative;}#sk-container-id-7 div.sk-text-repr-fallback {display: none;}</style><div id=\"sk-container-id-7\" class=\"sk-top-container\"><div class=\"sk-text-repr-fallback\"><pre>RandomForestRegressor(random_state=0)</pre><b>In a Jupyter environment, please rerun this cell to show the HTML representation or trust the notebook. <br />On GitHub, the HTML representation is unable to render, please try loading this page with nbviewer.org.</b></div><div class=\"sk-container\" hidden><div class=\"sk-item\"><div class=\"sk-estimator sk-toggleable\"><input class=\"sk-toggleable__control sk-hidden--visually\" id=\"sk-estimator-id-9\" type=\"checkbox\" checked><label for=\"sk-estimator-id-9\" class=\"sk-toggleable__label sk-toggleable__label-arrow\">RandomForestRegressor</label><div class=\"sk-toggleable__content\"><pre>RandomForestRegressor(random_state=0)</pre></div></div></div></div></div>"
      ],
      "text/plain": [
       "RandomForestRegressor(random_state=0)"
      ]
     },
     "execution_count": 48,
     "metadata": {},
     "output_type": "execute_result"
    }
   ],
   "source": [
    "from sklearn.ensemble import RandomForestRegressor\n",
    "random_forest_reg = RandomForestRegressor(random_state=0)\n",
    "random_forest_reg.fit(X, y.values)"
   ]
  },
  {
   "cell_type": "code",
   "execution_count": 49,
   "metadata": {},
   "outputs": [],
   "source": [
    "y_pred = random_forest_reg.predict(X)"
   ]
  },
  {
   "cell_type": "code",
   "execution_count": 50,
   "metadata": {},
   "outputs": [],
   "source": [
    "error2 = np.sqrt(mean_squared_error(y, y_pred))\n",
    "erro22 = mean_absolute_percentage_error(y,y_pred)\n",
    "acuuracy2 = r2_score(y,y_pred)"
   ]
  },
  {
   "cell_type": "code",
   "execution_count": 51,
   "metadata": {},
   "outputs": [
    {
     "name": "stdout",
     "output_type": "stream",
     "text": [
      "0.9408502986302402\n",
      "40498.78216337397\n",
      "0.07955241322571917\n"
     ]
    }
   ],
   "source": [
    "print(acuuracy2)\n",
    "print(error2)\n",
    "print(erro22)"
   ]
  },
  {
   "cell_type": "code",
   "execution_count": 52,
   "metadata": {},
   "outputs": [
    {
     "data": {
      "text/html": [
       "<style>#sk-container-id-8 {color: black;background-color: white;}#sk-container-id-8 pre{padding: 0;}#sk-container-id-8 div.sk-toggleable {background-color: white;}#sk-container-id-8 label.sk-toggleable__label {cursor: pointer;display: block;width: 100%;margin-bottom: 0;padding: 0.3em;box-sizing: border-box;text-align: center;}#sk-container-id-8 label.sk-toggleable__label-arrow:before {content: \"▸\";float: left;margin-right: 0.25em;color: #696969;}#sk-container-id-8 label.sk-toggleable__label-arrow:hover:before {color: black;}#sk-container-id-8 div.sk-estimator:hover label.sk-toggleable__label-arrow:before {color: black;}#sk-container-id-8 div.sk-toggleable__content {max-height: 0;max-width: 0;overflow: hidden;text-align: left;background-color: #f0f8ff;}#sk-container-id-8 div.sk-toggleable__content pre {margin: 0.2em;color: black;border-radius: 0.25em;background-color: #f0f8ff;}#sk-container-id-8 input.sk-toggleable__control:checked~div.sk-toggleable__content {max-height: 200px;max-width: 100%;overflow: auto;}#sk-container-id-8 input.sk-toggleable__control:checked~label.sk-toggleable__label-arrow:before {content: \"▾\";}#sk-container-id-8 div.sk-estimator input.sk-toggleable__control:checked~label.sk-toggleable__label {background-color: #d4ebff;}#sk-container-id-8 div.sk-label input.sk-toggleable__control:checked~label.sk-toggleable__label {background-color: #d4ebff;}#sk-container-id-8 input.sk-hidden--visually {border: 0;clip: rect(1px 1px 1px 1px);clip: rect(1px, 1px, 1px, 1px);height: 1px;margin: -1px;overflow: hidden;padding: 0;position: absolute;width: 1px;}#sk-container-id-8 div.sk-estimator {font-family: monospace;background-color: #f0f8ff;border: 1px dotted black;border-radius: 0.25em;box-sizing: border-box;margin-bottom: 0.5em;}#sk-container-id-8 div.sk-estimator:hover {background-color: #d4ebff;}#sk-container-id-8 div.sk-parallel-item::after {content: \"\";width: 100%;border-bottom: 1px solid gray;flex-grow: 1;}#sk-container-id-8 div.sk-label:hover label.sk-toggleable__label {background-color: #d4ebff;}#sk-container-id-8 div.sk-serial::before {content: \"\";position: absolute;border-left: 1px solid gray;box-sizing: border-box;top: 0;bottom: 0;left: 50%;z-index: 0;}#sk-container-id-8 div.sk-serial {display: flex;flex-direction: column;align-items: center;background-color: white;padding-right: 0.2em;padding-left: 0.2em;position: relative;}#sk-container-id-8 div.sk-item {position: relative;z-index: 1;}#sk-container-id-8 div.sk-parallel {display: flex;align-items: stretch;justify-content: center;background-color: white;position: relative;}#sk-container-id-8 div.sk-item::before, #sk-container-id-8 div.sk-parallel-item::before {content: \"\";position: absolute;border-left: 1px solid gray;box-sizing: border-box;top: 0;bottom: 0;left: 50%;z-index: -1;}#sk-container-id-8 div.sk-parallel-item {display: flex;flex-direction: column;z-index: 1;position: relative;background-color: white;}#sk-container-id-8 div.sk-parallel-item:first-child::after {align-self: flex-end;width: 50%;}#sk-container-id-8 div.sk-parallel-item:last-child::after {align-self: flex-start;width: 50%;}#sk-container-id-8 div.sk-parallel-item:only-child::after {width: 0;}#sk-container-id-8 div.sk-dashed-wrapped {border: 1px dashed gray;margin: 0 0.4em 0.5em 0.4em;box-sizing: border-box;padding-bottom: 0.4em;background-color: white;}#sk-container-id-8 div.sk-label label {font-family: monospace;font-weight: bold;display: inline-block;line-height: 1.2em;}#sk-container-id-8 div.sk-label-container {text-align: center;}#sk-container-id-8 div.sk-container {/* jupyter's `normalize.less` sets `[hidden] { display: none; }` but bootstrap.min.css set `[hidden] { display: none !important; }` so we also need the `!important` here to be able to override the default hidden behavior on the sphinx rendered scikit-learn.org. See: https://github.com/scikit-learn/scikit-learn/issues/21755 */display: inline-block !important;position: relative;}#sk-container-id-8 div.sk-text-repr-fallback {display: none;}</style><div id=\"sk-container-id-8\" class=\"sk-top-container\"><div class=\"sk-text-repr-fallback\"><pre>GridSearchCV(estimator=RandomForestRegressor(random_state=0),\n",
       "             param_grid={&#x27;max_depth&#x27;: [None, 2, 4, 6, 8, 10, 12]},\n",
       "             scoring=&#x27;neg_mean_squared_error&#x27;)</pre><b>In a Jupyter environment, please rerun this cell to show the HTML representation or trust the notebook. <br />On GitHub, the HTML representation is unable to render, please try loading this page with nbviewer.org.</b></div><div class=\"sk-container\" hidden><div class=\"sk-item sk-dashed-wrapped\"><div class=\"sk-label-container\"><div class=\"sk-label sk-toggleable\"><input class=\"sk-toggleable__control sk-hidden--visually\" id=\"sk-estimator-id-10\" type=\"checkbox\" ><label for=\"sk-estimator-id-10\" class=\"sk-toggleable__label sk-toggleable__label-arrow\">GridSearchCV</label><div class=\"sk-toggleable__content\"><pre>GridSearchCV(estimator=RandomForestRegressor(random_state=0),\n",
       "             param_grid={&#x27;max_depth&#x27;: [None, 2, 4, 6, 8, 10, 12]},\n",
       "             scoring=&#x27;neg_mean_squared_error&#x27;)</pre></div></div></div><div class=\"sk-parallel\"><div class=\"sk-parallel-item\"><div class=\"sk-item\"><div class=\"sk-label-container\"><div class=\"sk-label sk-toggleable\"><input class=\"sk-toggleable__control sk-hidden--visually\" id=\"sk-estimator-id-11\" type=\"checkbox\" ><label for=\"sk-estimator-id-11\" class=\"sk-toggleable__label sk-toggleable__label-arrow\">estimator: RandomForestRegressor</label><div class=\"sk-toggleable__content\"><pre>RandomForestRegressor(random_state=0)</pre></div></div></div><div class=\"sk-serial\"><div class=\"sk-item\"><div class=\"sk-estimator sk-toggleable\"><input class=\"sk-toggleable__control sk-hidden--visually\" id=\"sk-estimator-id-12\" type=\"checkbox\" ><label for=\"sk-estimator-id-12\" class=\"sk-toggleable__label sk-toggleable__label-arrow\">RandomForestRegressor</label><div class=\"sk-toggleable__content\"><pre>RandomForestRegressor(random_state=0)</pre></div></div></div></div></div></div></div></div></div></div>"
      ],
      "text/plain": [
       "GridSearchCV(estimator=RandomForestRegressor(random_state=0),\n",
       "             param_grid={'max_depth': [None, 2, 4, 6, 8, 10, 12]},\n",
       "             scoring='neg_mean_squared_error')"
      ]
     },
     "execution_count": 52,
     "metadata": {},
     "output_type": "execute_result"
    }
   ],
   "source": [
    "from sklearn.model_selection import GridSearchCV\n",
    "\n",
    "max_depth = [None, 2,4,6,8,10,12]\n",
    "parameters = {\"max_depth\": max_depth}\n",
    "\n",
    "regressor = RandomForestRegressor(random_state=0)\n",
    "gs = GridSearchCV(regressor, parameters, scoring='neg_mean_squared_error')\n",
    "gs.fit(X, y.values)"
   ]
  },
  {
   "cell_type": "code",
   "execution_count": 53,
   "metadata": {},
   "outputs": [
    {
     "name": "stdout",
     "output_type": "stream",
     "text": [
      "40,498.78\n"
     ]
    }
   ],
   "source": [
    "regressor = gs.best_estimator_\n",
    "\n",
    "regressor.fit(X, y.values)\n",
    "y_pred = regressor.predict(X)\n",
    "error = np.sqrt(mean_squared_error(y, y_pred))\n",
    "print(\"{:,.02f}\".format(error))"
   ]
  },
  {
   "cell_type": "code",
   "execution_count": 54,
   "metadata": {},
   "outputs": [
    {
     "data": {
      "text/html": [
       "<div>\n",
       "<style scoped>\n",
       "    .dataframe tbody tr th:only-of-type {\n",
       "        vertical-align: middle;\n",
       "    }\n",
       "\n",
       "    .dataframe tbody tr th {\n",
       "        vertical-align: top;\n",
       "    }\n",
       "\n",
       "    .dataframe thead th {\n",
       "        text-align: right;\n",
       "    }\n",
       "</style>\n",
       "<table border=\"1\" class=\"dataframe\">\n",
       "  <thead>\n",
       "    <tr style=\"text-align: right;\">\n",
       "      <th></th>\n",
       "      <th>model</th>\n",
       "      <th>model.1</th>\n",
       "      <th>drive_size</th>\n",
       "      <th>ram</th>\n",
       "      <th>processor</th>\n",
       "      <th>gen</th>\n",
       "      <th>processor_speed</th>\n",
       "      <th>screen_size</th>\n",
       "      <th>screen_r_width</th>\n",
       "      <th>screen_r_height</th>\n",
       "      <th>touch_screen</th>\n",
       "      <th>keyboard_light</th>\n",
       "      <th>hdmi</th>\n",
       "    </tr>\n",
       "  </thead>\n",
       "  <tbody>\n",
       "    <tr>\n",
       "      <th>0</th>\n",
       "      <td>71</td>\n",
       "      <td>0</td>\n",
       "      <td>320</td>\n",
       "      <td>4</td>\n",
       "      <td>11</td>\n",
       "      <td>2.0</td>\n",
       "      <td>2.7</td>\n",
       "      <td>12.5</td>\n",
       "      <td>1366</td>\n",
       "      <td>768</td>\n",
       "      <td>0</td>\n",
       "      <td>0</td>\n",
       "      <td>0</td>\n",
       "    </tr>\n",
       "    <tr>\n",
       "      <th>1</th>\n",
       "      <td>186</td>\n",
       "      <td>1</td>\n",
       "      <td>1000</td>\n",
       "      <td>16</td>\n",
       "      <td>11</td>\n",
       "      <td>8.0</td>\n",
       "      <td>2.6</td>\n",
       "      <td>15.6</td>\n",
       "      <td>1920</td>\n",
       "      <td>1080</td>\n",
       "      <td>0</td>\n",
       "      <td>1</td>\n",
       "      <td>1</td>\n",
       "    </tr>\n",
       "    <tr>\n",
       "      <th>2</th>\n",
       "      <td>11</td>\n",
       "      <td>1</td>\n",
       "      <td>256</td>\n",
       "      <td>8</td>\n",
       "      <td>10</td>\n",
       "      <td>10.0</td>\n",
       "      <td>2.5</td>\n",
       "      <td>15.0</td>\n",
       "      <td>1920</td>\n",
       "      <td>1080</td>\n",
       "      <td>0</td>\n",
       "      <td>1</td>\n",
       "      <td>1</td>\n",
       "    </tr>\n",
       "    <tr>\n",
       "      <th>3</th>\n",
       "      <td>103</td>\n",
       "      <td>0</td>\n",
       "      <td>500</td>\n",
       "      <td>8</td>\n",
       "      <td>10</td>\n",
       "      <td>4.0</td>\n",
       "      <td>2.6</td>\n",
       "      <td>14.0</td>\n",
       "      <td>1600</td>\n",
       "      <td>900</td>\n",
       "      <td>0</td>\n",
       "      <td>1</td>\n",
       "      <td>0</td>\n",
       "    </tr>\n",
       "    <tr>\n",
       "      <th>4</th>\n",
       "      <td>86</td>\n",
       "      <td>0</td>\n",
       "      <td>320</td>\n",
       "      <td>4</td>\n",
       "      <td>10</td>\n",
       "      <td>1.0</td>\n",
       "      <td>2.6</td>\n",
       "      <td>14.0</td>\n",
       "      <td>1366</td>\n",
       "      <td>768</td>\n",
       "      <td>0</td>\n",
       "      <td>0</td>\n",
       "      <td>0</td>\n",
       "    </tr>\n",
       "    <tr>\n",
       "      <th>...</th>\n",
       "      <td>...</td>\n",
       "      <td>...</td>\n",
       "      <td>...</td>\n",
       "      <td>...</td>\n",
       "      <td>...</td>\n",
       "      <td>...</td>\n",
       "      <td>...</td>\n",
       "      <td>...</td>\n",
       "      <td>...</td>\n",
       "      <td>...</td>\n",
       "      <td>...</td>\n",
       "      <td>...</td>\n",
       "      <td>...</td>\n",
       "    </tr>\n",
       "    <tr>\n",
       "      <th>196</th>\n",
       "      <td>91</td>\n",
       "      <td>0</td>\n",
       "      <td>500</td>\n",
       "      <td>8</td>\n",
       "      <td>11</td>\n",
       "      <td>6.0</td>\n",
       "      <td>2.6</td>\n",
       "      <td>12.5</td>\n",
       "      <td>1920</td>\n",
       "      <td>1080</td>\n",
       "      <td>0</td>\n",
       "      <td>1</td>\n",
       "      <td>0</td>\n",
       "    </tr>\n",
       "    <tr>\n",
       "      <th>197</th>\n",
       "      <td>21</td>\n",
       "      <td>1</td>\n",
       "      <td>512</td>\n",
       "      <td>16</td>\n",
       "      <td>11</td>\n",
       "      <td>8.0</td>\n",
       "      <td>2.3</td>\n",
       "      <td>15.6</td>\n",
       "      <td>1920</td>\n",
       "      <td>1080</td>\n",
       "      <td>0</td>\n",
       "      <td>1</td>\n",
       "      <td>1</td>\n",
       "    </tr>\n",
       "    <tr>\n",
       "      <th>198</th>\n",
       "      <td>34</td>\n",
       "      <td>1</td>\n",
       "      <td>180</td>\n",
       "      <td>16</td>\n",
       "      <td>11</td>\n",
       "      <td>7.0</td>\n",
       "      <td>2.9</td>\n",
       "      <td>17.3</td>\n",
       "      <td>1920</td>\n",
       "      <td>1080</td>\n",
       "      <td>0</td>\n",
       "      <td>1</td>\n",
       "      <td>1</td>\n",
       "    </tr>\n",
       "    <tr>\n",
       "      <th>199</th>\n",
       "      <td>84</td>\n",
       "      <td>1</td>\n",
       "      <td>256</td>\n",
       "      <td>8</td>\n",
       "      <td>10</td>\n",
       "      <td>6.0</td>\n",
       "      <td>2.0</td>\n",
       "      <td>14.0</td>\n",
       "      <td>1920</td>\n",
       "      <td>1080</td>\n",
       "      <td>1</td>\n",
       "      <td>1</td>\n",
       "      <td>1</td>\n",
       "    </tr>\n",
       "    <tr>\n",
       "      <th>200</th>\n",
       "      <td>83</td>\n",
       "      <td>1</td>\n",
       "      <td>512</td>\n",
       "      <td>8</td>\n",
       "      <td>10</td>\n",
       "      <td>8.0</td>\n",
       "      <td>2.6</td>\n",
       "      <td>13.0</td>\n",
       "      <td>1920</td>\n",
       "      <td>1080</td>\n",
       "      <td>1</td>\n",
       "      <td>1</td>\n",
       "      <td>1</td>\n",
       "    </tr>\n",
       "  </tbody>\n",
       "</table>\n",
       "<p>201 rows × 13 columns</p>\n",
       "</div>"
      ],
      "text/plain": [
       "     model  model.1  drive_size  ram  processor   gen  processor_speed  \\\n",
       "0       71        0         320    4         11   2.0              2.7   \n",
       "1      186        1        1000   16         11   8.0              2.6   \n",
       "2       11        1         256    8         10  10.0              2.5   \n",
       "3      103        0         500    8         10   4.0              2.6   \n",
       "4       86        0         320    4         10   1.0              2.6   \n",
       "..     ...      ...         ...  ...        ...   ...              ...   \n",
       "196     91        0         500    8         11   6.0              2.6   \n",
       "197     21        1         512   16         11   8.0              2.3   \n",
       "198     34        1         180   16         11   7.0              2.9   \n",
       "199     84        1         256    8         10   6.0              2.0   \n",
       "200     83        1         512    8         10   8.0              2.6   \n",
       "\n",
       "     screen_size  screen_r_width  screen_r_height  touch_screen  \\\n",
       "0           12.5            1366              768             0   \n",
       "1           15.6            1920             1080             0   \n",
       "2           15.0            1920             1080             0   \n",
       "3           14.0            1600              900             0   \n",
       "4           14.0            1366              768             0   \n",
       "..           ...             ...              ...           ...   \n",
       "196         12.5            1920             1080             0   \n",
       "197         15.6            1920             1080             0   \n",
       "198         17.3            1920             1080             0   \n",
       "199         14.0            1920             1080             1   \n",
       "200         13.0            1920             1080             1   \n",
       "\n",
       "     keyboard_light  hdmi  \n",
       "0                 0     0  \n",
       "1                 1     1  \n",
       "2                 1     1  \n",
       "3                 1     0  \n",
       "4                 0     0  \n",
       "..              ...   ...  \n",
       "196               1     0  \n",
       "197               1     1  \n",
       "198               1     1  \n",
       "199               1     1  \n",
       "200               1     1  \n",
       "\n",
       "[201 rows x 13 columns]"
      ]
     },
     "execution_count": 54,
     "metadata": {},
     "output_type": "execute_result"
    }
   ],
   "source": [
    "X"
   ]
  },
  {
   "cell_type": "code",
   "execution_count": 55,
   "metadata": {},
   "outputs": [],
   "source": [
    "#model\tmodel.1\tdrive_size\tram\tprocessor\tgen\tprocessor_speed\tscreen_size\tscreen_r_width\tscreen_r_height\ttouch_screen\tkeyboard_light\thdmi"
   ]
  },
  {
   "cell_type": "code",
   "execution_count": 56,
   "metadata": {},
   "outputs": [
    {
     "data": {
      "text/plain": [
       "array([['EliteBook 2560p', 'hdd', '320', '4', 'i7', '2.0', '2.7', '12.5',\n",
       "        '1366', '768', '0.0', '0.0', '0.0']], dtype='<U32')"
      ]
     },
     "execution_count": 56,
     "metadata": {},
     "output_type": "execute_result"
    }
   ],
   "source": [
    "X = np.array([['EliteBook 2560p','hdd','320',4,'i7',2.0,'2.7',12.5,'1366','768',0.0,0.0,0.0\t]])\n",
    "X"
   ]
  },
  {
   "cell_type": "code",
   "execution_count": 57,
   "metadata": {},
   "outputs": [
    {
     "data": {
      "text/plain": [
       "array([[  71. ,    0. ,  320. ,    4. ,   11. ,    2. ,    2.7,   12.5,\n",
       "        1366. ,  768. ,    0. ,    0. ,    0. ]])"
      ]
     },
     "execution_count": 57,
     "metadata": {},
     "output_type": "execute_result"
    }
   ],
   "source": [
    "X[:, 0] = le_model.transform(X[:,0])\n",
    "X[:, 1] = le_model_1.transform(X[:,1])\n",
    "X[:, 4] = le_processor.transform(X[:,4])\n",
    "X = X.astype(float)\n",
    "X\n"
   ]
  },
  {
   "cell_type": "code",
   "execution_count": 58,
   "metadata": {},
   "outputs": [
    {
     "name": "stderr",
     "output_type": "stream",
     "text": [
      "c:\\Users\\Simeon\\AppData\\Local\\Programs\\Python\\Python310\\lib\\site-packages\\sklearn\\base.py:450: UserWarning: X does not have valid feature names, but RandomForestRegressor was fitted with feature names\n",
      "  warnings.warn(\n"
     ]
    },
    {
     "data": {
      "text/plain": [
       "array([101640.])"
      ]
     },
     "execution_count": 58,
     "metadata": {},
     "output_type": "execute_result"
    }
   ],
   "source": [
    "y_pred = regressor.predict(X)\n",
    "y_pred"
   ]
  },
  {
   "cell_type": "code",
   "execution_count": 59,
   "metadata": {},
   "outputs": [],
   "source": [
    "import pickle"
   ]
  },
  {
   "cell_type": "code",
   "execution_count": 63,
   "metadata": {},
   "outputs": [],
   "source": [
    "data = {\"model\": regressor, \"le_model\": le_model, \"le_model_1\": le_model_1,\"le_processor\": le_processor}\n",
    "with open('steps.pkl', 'wb') as file:\n",
    "    pickle.dump(data, file)"
   ]
  },
  {
   "cell_type": "code",
   "execution_count": 64,
   "metadata": {},
   "outputs": [],
   "source": [
    "with open('saved_steps.pkl', 'rb') as file:\n",
    "    data = pickle.load(file)\n",
    "\n",
    "regressor_loaded = data[\"model\"]"
   ]
  },
  {
   "cell_type": "code",
   "execution_count": 65,
   "metadata": {},
   "outputs": [
    {
     "name": "stderr",
     "output_type": "stream",
     "text": [
      "c:\\Users\\Simeon\\AppData\\Local\\Programs\\Python\\Python310\\lib\\site-packages\\sklearn\\base.py:450: UserWarning: X does not have valid feature names, but RandomForestRegressor was fitted with feature names\n",
      "  warnings.warn(\n"
     ]
    },
    {
     "data": {
      "text/plain": [
       "array([101640.])"
      ]
     },
     "execution_count": 65,
     "metadata": {},
     "output_type": "execute_result"
    }
   ],
   "source": [
    "y_pred = regressor_loaded.predict(X)\n",
    "y_pred"
   ]
  },
  {
   "cell_type": "code",
   "execution_count": null,
   "metadata": {},
   "outputs": [],
   "source": []
  }
 ],
 "metadata": {
  "kernelspec": {
   "display_name": "Python 3.10.4 64-bit",
   "language": "python",
   "name": "python3"
  },
  "language_info": {
   "codemirror_mode": {
    "name": "ipython",
    "version": 3
   },
   "file_extension": ".py",
   "mimetype": "text/x-python",
   "name": "python",
   "nbconvert_exporter": "python",
   "pygments_lexer": "ipython3",
   "version": "3.10.4"
  },
  "orig_nbformat": 4,
  "vscode": {
   "interpreter": {
    "hash": "97a318a1c10ea3cad32b5f740e8bef65bce9a717407c951d39899fa160feabd9"
   }
  }
 },
 "nbformat": 4,
 "nbformat_minor": 2
}
